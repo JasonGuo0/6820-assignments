{
 "cells": [
  {
   "cell_type": "markdown",
   "metadata": {},
   "source": [
    "# Processing Sequences\n",
    "Thus far in our course we have done both classification and regression analyses.   For our classification, the data has been one of two types:\n",
    "1.  Static feature data: for example, the pulsar dataset.   We have 8 individual features characterizing pulsars as well as background, and our challenge was to develop a model capable of classifying new instances based on those features.  We used fully connected networks (FCNs) to perform this task.  Other tools would work well here, such as SVMs, decision trees, or random forests.\n",
    "2.  Image data: Here we have predominantly used the MNIST dataset.   Here our challenge was again to classify our data as one of multiple possible classes (0-9).   We used both FCNs as well as convolutional neural networks (CNNs). \n",
    "\n",
    "The primary difference in the FCN vs CNN approach is the following:\n",
    "* For FCNs the features are fixed.   For example, when classifying the MNIST sample, we used the pixel intensity at each of the 784 specific pixel positions as our features.\n",
    "* For CNNs the features are \"discovered\".   Again, when classifying the MNIST sample, depending on the exact number of convolutional and pooling layers, the values used in kernels or filters we specify in the convolutional layers are determined (fit) by our training sample, and could be features over small sections of pixels or even over the whole image.\n",
    "\n",
    "In this workbook we will deal with a different sort of dataset: ordered sequences.   We will focus initially on classification of time sequences, but will extend this to classification of text sequences.\n",
    "\n",
    "This workbook is based on examples and code from these sources:\n",
    "1.  [Human Activity Recognition (HAR) Tutorial with Keras and Core ML (Part 1)](https://towardsdatascience.com/human-activity-recognition-har-tutorial-with-keras-and-core-ml-part-1-8c05e365dfa0)  by Nils Ackermann\n",
    "2.  [Introduction to 1D Convolutional Neural Networks in Keras for Time Sequences](https://blog.goodaudience.com/introduction-to-1d-convolutional-neural-networks-in-keras-for-time-sequences-3a7ff801a2cf) by Nils Ackermann\n",
    "3.  [How to Develop 1D Convolutional Neural Network Models for Human Activity Recognition](https://machinelearningmastery.com/cnn-models-for-human-activity-recognition-time-series-classification/) by Jason Brownlee"
   ]
  },
  {
   "cell_type": "markdown",
   "metadata": {},
   "source": [
    "# HAR: Human Activity Recognition\n",
    "The analysis we will do in this workbook deals with data collected from smartphones carried by human subjects engaged in normal daily activities: walking, sitting, jogging, standing, climbing upstairs, or descending downstairs.   The smartphones were carried in the front pants pocket by 36 subjects.   The raw data collected are the accelerometer readings in the x,y, and z directions (relative to the smartphones) collected at 50 Hz (or 50 steps/second).   \n",
    "\n",
    "Given the phone orientation when a person is standing:\n",
    "* the **x-direction** is side to side\n",
    "* the **y-direction** is up and down\n",
    "* the **z-direction** is forward and backward\n",
    "as shown in this figure:\n",
    "![har_fig](har_fig.png)\n",
    "\n",
    "A paper describing the results can be found [here](http://www.cis.fordham.edu/wisdm/includes/files/sensorKDD-2010.pdf).\n",
    "\n",
    "A video of the activity can be found [here](https://www.youtube.com/watch?v=XOEN9W05_4A)."
   ]
  },
  {
   "cell_type": "markdown",
   "metadata": {},
   "source": [
    "# Get the data:  \n",
    "\n",
    "The data can be found here:  http://www.cis.fordham.edu/wisdm/dataset.php\n",
    "\n",
    "I have placed this in the scratch area on OSC at this location:\n",
    "/fs/scratch/PAS1495/physics6820/WISDM/WISDM_ar_v1.1/WISDM_ar_v1.1_raw.txt\n",
    "\n",
    "There is a text file in the same location that has more descriptive information about the data.\n",
    "\n",
    "The columns in the above files are the following:\n",
    "* user-id: this is a number from 1-30\n",
    "* activity: this is a label from the following: Jogging, Walking, Standing, Sitting, Upstairs, Downstairs\n",
    "* timestamp: this is a relative timestamp from phone's uptime in nanoseconds (so the text file says - it is not obvious that this is correct from my inspection of the data)\n",
    "* x-axis: a floating-point values between -20 .. 20\n",
    "                The acceleration in the x direction as measured\n",
    "                by the android phone's accelerometer. \n",
    "                A value of 10 = 1g = 9.81 m/s^2, and\n",
    "                0 = no acceleration.\n",
    "                The acceleration recorded includes gravitational\n",
    "                acceleration toward the center of the Earth, so\n",
    "                that when the phone is at rest on a flat surface\n",
    "                the vertical axis will register +-10. \n",
    "* y-axis: see x-axis\n",
    "* z-axis: see x-axis\n",
    "\n",
    "Let's read the data in so we can explore it."
   ]
  },
  {
   "cell_type": "code",
   "execution_count": 1,
   "metadata": {},
   "outputs": [
    {
     "name": "stdout",
     "output_type": "stream",
     "text": [
      "    user-id activity       timestamp    x-axis     y-axis     z-axis\n",
      "0        33  Jogging  49105962326000 -0.694638  12.680544   0.503953\n",
      "1        33  Jogging  49106062271000  5.012288  11.264028   0.953424\n",
      "2        33  Jogging  49106112167000  4.903325  10.882658  -0.081722\n",
      "3        33  Jogging  49106222305000 -0.612916  18.496431   3.023717\n",
      "4        33  Jogging  49106332290000 -1.184970  12.108489   7.205164\n",
      "5        33  Jogging  49106442306000  1.375655  -2.492524  -6.510526\n",
      "6        33  Jogging  49106542312000 -0.612916  10.569390   5.706926\n",
      "7        33  Jogging  49106652389000 -0.503953  13.947236   7.055340\n",
      "8        33  Jogging  49106762313000 -8.430995  11.413852   5.134871\n",
      "9        33  Jogging  49106872299000  0.953424   1.375655   1.648062\n",
      "10       33  Jogging  49106982315000 -8.199450  19.572440   2.724070\n",
      "11       33  Jogging  49107092330000  1.416516   5.788648   2.982856\n",
      "12       33  Jogging  49107202316000 -1.879608  -2.982856  -0.299648\n",
      "13       33  Jogging  49107312332000 -6.129157   6.851035  -8.158588\n",
      "14       33  Jogging  49107422348000  5.829509  18.006100   8.539958\n",
      "15       33  Jogging  49107522293000  6.278980   2.982856   2.914754\n",
      "16       33  Jogging  49107632339000 -1.566340   8.308413  -1.457377\n",
      "17       33  Jogging  49107742355000  3.527670  13.593107   9.425281\n",
      "18       33  Jogging  49107852340000 -2.029432  -5.706926 -10.188020\n",
      "19       33  Jogging  49107962326000  2.764931  10.337844  -9.724928\n",
      "        user-id activity       timestamp    x-axis     y-axis     z-axis\n",
      "0            33  Jogging  49105962326000 -0.694638  12.680544   0.503953\n",
      "1            33  Jogging  49106062271000  5.012288  11.264028   0.953424\n",
      "2            33  Jogging  49106112167000  4.903325  10.882658  -0.081722\n",
      "3            33  Jogging  49106222305000 -0.612916  18.496431   3.023717\n",
      "4            33  Jogging  49106332290000 -1.184970  12.108489   7.205164\n",
      "5            33  Jogging  49106442306000  1.375655  -2.492524  -6.510526\n",
      "6            33  Jogging  49106542312000 -0.612916  10.569390   5.706926\n",
      "7            33  Jogging  49106652389000 -0.503953  13.947236   7.055340\n",
      "8            33  Jogging  49106762313000 -8.430995  11.413852   5.134871\n",
      "9            33  Jogging  49106872299000  0.953424   1.375655   1.648062\n",
      "10           33  Jogging  49106982315000 -8.199450  19.572440   2.724070\n",
      "11           33  Jogging  49107092330000  1.416516   5.788648   2.982856\n",
      "12           33  Jogging  49107202316000 -1.879608  -2.982856  -0.299648\n",
      "13           33  Jogging  49107312332000 -6.129157   6.851035  -8.158588\n",
      "14           33  Jogging  49107422348000  5.829509  18.006100   8.539958\n",
      "15           33  Jogging  49107522293000  6.278980   2.982856   2.914754\n",
      "16           33  Jogging  49107632339000 -1.566340   8.308413  -1.457377\n",
      "17           33  Jogging  49107742355000  3.527670  13.593107   9.425281\n",
      "18           33  Jogging  49107852340000 -2.029432  -5.706926 -10.188020\n",
      "19           33  Jogging  49107962326000  2.764931  10.337844  -9.724928\n",
      "20           33  Jogging  49108062271000  3.568531  13.674830   1.539099\n",
      "21           33  Jogging  49108172348000 -0.503953   3.868179   3.718355\n",
      "22           33  Jogging  49108272262000 -2.301839   1.688923   0.081722\n",
      "23           33  Jogging  49108382370000 -3.568531  19.572440   6.510526\n",
      "24           33  Jogging  49108492294000 -0.803601  -3.296124  -4.630918\n",
      "25           33  Jogging  49108602371000  0.503953  10.841797  13.525005\n",
      "26           33  Jogging  49108702285000  5.706926  15.595298   6.170018\n",
      "27           33  Jogging  49108812332000 -8.662541   7.273266   4.018002\n",
      "28           33  Jogging  49108922378000 -1.334794   1.225831   2.369940\n",
      "29           33  Jogging  49109022293000 -4.590057  19.572440   4.712640\n",
      "...         ...      ...             ...       ...        ...        ...\n",
      "467598       33  Sitting    773332347000  5.860000   2.450000   7.820000\n",
      "467599       33  Sitting    773382243000  5.860000   2.450000   7.780000\n",
      "467600       33  Sitting    773432323000  5.900000   2.450000   7.780000\n",
      "467601       33  Sitting    773482280000  5.860000   2.410000   7.780000\n",
      "467602       33  Sitting    773532298000  5.860000   2.410000   7.820000\n",
      "467603       33  Sitting    773582347000  5.900000   2.410000   7.780000\n",
      "467604       33  Sitting    773632518000  5.860000   2.410000   7.740000\n",
      "467605       33  Sitting    773682323000  5.900000   2.450000   7.820000\n",
      "467606       33  Sitting    773732341000  5.860000   2.370000   7.740000\n",
      "467607       33  Sitting    773782298000  5.860000   2.410000   7.740000\n",
      "467608       33  Sitting    773832316000  5.900000   2.410000   7.740000\n",
      "467609       33  Sitting    773882304000  5.980000   2.490000   7.740000\n",
      "467610       33  Sitting    773882304000  5.980000   2.490000   7.740000\n",
      "467611       33  Sitting    773982310000  6.020000   2.450000   7.740000\n",
      "467612       33  Sitting    774032329000  5.980000   2.490000   7.780000\n",
      "467613       33  Sitting    774082347000  5.940000   2.410000   7.740000\n",
      "467614       33  Sitting    774132304000  6.050000   2.490000   7.740000\n",
      "467615       33  Sitting    774182292000  5.980000   2.490000   7.740000\n",
      "467616       33  Sitting    774232310000  6.050000   2.410000   7.740000\n",
      "467617       33  Sitting    774282329000  6.020000   2.370000   7.670000\n",
      "467618       33  Sitting    774332347000  5.940000   2.410000   7.700000\n",
      "467619       33  Sitting    774382335000  6.050000   2.450000   7.780000\n",
      "467620       33  Sitting    774432353000  6.020000   2.410000   7.670000\n",
      "467621       33  Sitting    774482341000  6.130000   2.370000   7.740000\n",
      "467622       33  Sitting    774532329000  5.940000   2.260000   7.700000\n",
      "467623       33  Sitting    774582347000  5.860000   2.180000   7.740000\n",
      "467624       33  Sitting    774632335000  6.020000   2.410000   7.890000\n",
      "467625       33  Sitting    774682292000  5.860000   2.410000   7.780000\n",
      "467626       33  Sitting    774732310000  5.710000   2.300000   7.780000\n",
      "467627       33  Sitting    774782298000  5.830000   2.300000   7.860000\n",
      "\n",
      "[29453 rows x 6 columns]\n"
     ]
    }
   ],
   "source": [
    "import pandas as pd\n",
    "import numpy as np\n",
    "#\n",
    "# Use this to convert text to floating point\n",
    "def convert_to_float(x):\n",
    "    try:\n",
    "        return np.float(x)\n",
    "    except:\n",
    "        return np.nan\n",
    "\n",
    "column_names = ['user-id',\n",
    "                    'activity',\n",
    "                    'timestamp',\n",
    "                    'x-axis',\n",
    "                    'y-axis',\n",
    "                    'z-axis']\n",
    "df = pd.read_csv('/fs/scratch/PAS1495/physics6820/WISDM/WISDM_ar_v1.1/WISDM_ar_v1.1_raw.txt',\n",
    "                     header=None,\n",
    "                     names=column_names)\n",
    "\n",
    "# Last column has a \";\" character which must be removed ...\n",
    "df['z-axis'].replace(regex=True,\n",
    "      inplace=True,\n",
    "      to_replace=r';',\n",
    "      value=r'')\n",
    "    # ... and then this column must be transformed to float explicitly\n",
    "df['z-axis'] = df['z-axis'].apply(convert_to_float)\n",
    "    # This is very important otherwise the model will not fit and loss\n",
    "    # will show up as NAN\n",
    "#\n",
    "# Get rid if rows wth missing data\n",
    "df.dropna(axis=0, how='any', inplace=True)\n",
    "print(df.head(20))\n"
   ]
  },
  {
   "cell_type": "code",
   "execution_count": 3,
   "metadata": {},
   "outputs": [
    {
     "name": "stdout",
     "output_type": "stream",
     "text": [
      "(29453, 6)\n"
     ]
    }
   ],
   "source": [
    "print(df[df['user-id']==33].shape)"
   ]
  },
  {
   "cell_type": "markdown",
   "metadata": {},
   "source": [
    "# Simple plots\n",
    "Lets make some simple plots which show how many samples are in the data for: \n",
    "* each activity\n",
    "* each user"
   ]
  },
  {
   "cell_type": "code",
   "execution_count": 2,
   "metadata": {},
   "outputs": [
    {
     "data": {
      "image/png": "[encoded data removed]",
      "text/plain": [
       "<Figure size 432x288 with 1 Axes>"
      ]
     },
     "metadata": {},
     "output_type": "display_data"
    },
    {
     "data": {
      "image/png": "[encoded data removed]",
      "text/plain": [
       "<Figure size 432x288 with 1 Axes>"
      ]
     },
     "metadata": {},
     "output_type": "display_data"
    }
   ],
   "source": [
    "from matplotlib import pyplot as plt\n",
    "\n",
    "%matplotlib inline\n",
    "\n",
    "# Show how many training examples exist for each of the six activities\n",
    "df['activity'].value_counts().plot(kind='bar',\n",
    "                                   title='Training Examples by Activity Type')\n",
    "plt.show()\n",
    "# Better understand how the recordings are spread across the different\n",
    "# users who participated in the study\n",
    "#print(df['user-id'].value_counts())\n",
    "df['user-id'].value_counts().plot(kind='bar',\n",
    "                                  title='Training Examples by User')\n",
    "plt.show()"
   ]
  },
  {
   "cell_type": "markdown",
   "metadata": {},
   "source": [
    "# Splitting the data\n",
    "We need to split the data into test and train data.   The way we will do this is to see how much time each user spends in each activity.   We will use defaultdicts to keep track of this.\n",
    "\n",
    "Also, since each \"step\" in time is 1/50.0 of a second, we divide by 50 to convert steps to seconds (so activityStepsByUser is actual activity by user in seconds).\n",
    "\n",
    "Be patient!   This next code block takes a minute or so."
   ]
  },
  {
   "cell_type": "code",
   "execution_count": 3,
   "metadata": {},
   "outputs": [],
   "source": [
    "from collections import defaultdict\n",
    "from functools import partial\n",
    "\n",
    "activitySteps = defaultdict(list)\n",
    "activityStepsByUser = defaultdict(partial(defaultdict, float))\n",
    "activitiesByUser = defaultdict(int)\n",
    "\n",
    "oldActivity = ''\n",
    "oldUser = -1\n",
    "startTime = -1\n",
    "num = 0\n",
    "steps = 0\n",
    "activities = set()\n",
    "#\n",
    "# Loop over each row in our dataset\n",
    "for index, row in df.iterrows():\n",
    "#\n",
    "# Data from the current row\n",
    "    activity = row['activity']\n",
    "    activities.add(activity)\n",
    "    user = row['user-id']\n",
    "    currentTime = row['timestamp']\n",
    "    steps += 1\n",
    "'''We are simply counting how many steps there are for each user.''''\n",
    "#\n",
    "# Is the activty of this row different from our last row?  How about the user?\n",
    "# If either of these change, collect data\n",
    "    if activity != oldActivity or user != oldUser:\n",
    "#\n",
    "# If oldUser is less than zero then we have not started collecting data yet!\n",
    "        if oldUser >= 0:\n",
    "#\n",
    "# Something changed, so store the old data, and reset the variables to the current activity/user\n",
    "            activitySteps[oldActivity].append(steps/50.0) #This counts how many seconds of data there are for the six activities.\n",
    "            activityStepsByUser[oldUser][oldActivity] += steps/50.0 #This counts how many seconds each person spends on each activity.\n",
    "            activitiesByUser[oldUser] += 1 #How much time of data each user contributes.\n",
    "            oldActivity = activity\n",
    "            oldUser = user\n",
    "            startTime = currentTime\n",
    "            steps = 0\n",
    "        else:\n",
    "            oldUser = user\n",
    "            startTime = currentTime\n",
    "            steps = 0\n",
    "    num += 1\n"
   ]
  },
  {
   "cell_type": "markdown",
   "metadata": {},
   "source": [
    "## Printout\n",
    "Now we can printout how much time each user spends in each activity.   We see that some of the participants don't spend any time in some of the activites.   we also note that if we order the particpants by user-id, that approximately every 4 users corresponds to about 10% of the data.   \n",
    "\n",
    "Also note that the amount of time each user spends in each ativity is typically about 50-60s."
   ]
  },
  {
   "cell_type": "code",
   "execution_count": 4,
   "metadata": {},
   "outputs": [
    {
     "name": "stdout",
     "output_type": "stream",
     "text": [
      "User    Num    Jog    Walk   Stand     Sit  Upstairs   DownSt  TotalTime  TimePerAct Frac\n",
      "0 \t 0 \t0.0 \t0.0 \t0.0 \t0.0 \t0.0 \t0.0 \t0.0   0.0   0.0\n",
      "1 \t 12 \t0.0 \t59.0 \t62.0 \t221.0 \t257.0 \t0.0 \t600.0   50.0   0.03\n",
      "2 \t 4 \t0.0 \t0.0 \t0.0 \t236.0 \t235.0 \t0.0 \t470.0   118.0   0.05\n",
      "3 \t 14 \t32.0 \t67.0 \t68.0 \t220.0 \t259.0 \t56.0 \t703.0   50.0   0.08\n",
      "4 \t 8 \t25.0 \t35.0 \t28.0 \t18.0 \t122.0 \t0.0 \t227.0   28.0   0.09\n",
      "5 \t 10 \t33.0 \t66.0 \t68.0 \t128.0 \t245.0 \t30.0 \t570.0   57.0   0.12\n",
      "6 \t 19 \t34.0 \t29.0 \t33.0 \t236.0 \t248.0 \t14.0 \t594.0   31.0   0.14\n",
      "7 \t 14 \t51.0 \t45.0 \t72.0 \t184.0 \t221.0 \t47.0 \t619.0   44.0   0.17\n",
      "8 \t 13 \t54.0 \t67.0 \t89.0 \t206.0 \t342.0 \t65.0 \t824.0   63.0   0.21\n",
      "9 \t 2 \t0.0 \t0.0 \t0.0 \t0.0 \t258.0 \t0.0 \t258.0   129.0   0.22\n",
      "10 \t 13 \t0.0 \t76.0 \t86.0 \t242.0 \t261.0 \t33.0 \t698.0   54.0   0.25\n",
      "11 \t 8 \t0.0 \t53.0 \t88.0 \t249.0 \t243.0 \t0.0 \t633.0   79.0   0.28\n",
      "12 \t 14 \t46.0 \t57.0 \t53.0 \t247.0 \t216.0 \t33.0 \t653.0   47.0   0.31\n",
      "13 \t 12 \t24.0 \t85.0 \t93.0 \t247.0 \t261.0 \t33.0 \t742.0   62.0   0.35\n",
      "14 \t 8 \t0.0 \t58.0 \t164.0 \t266.0 \t277.0 \t0.0 \t764.0   95.0   0.38\n",
      "15 \t 24 \t0.0 \t35.0 \t41.0 \t256.0 \t231.0 \t0.0 \t563.0   23.0   0.41\n",
      "16 \t 5 \t60.0 \t32.0 \t28.0 \t0.0 \t250.0 \t40.0 \t409.0   82.0   0.43\n",
      "17 \t 10 \t0.0 \t75.0 \t114.0 \t58.0 \t194.0 \t0.0 \t440.0   44.0   0.45\n",
      "18 \t 10 \t29.0 \t48.0 \t48.0 \t240.0 \t251.0 \t39.0 \t656.0   66.0   0.48\n",
      "19 \t 15 \t0.0 \t52.0 \t86.0 \t324.0 \t352.0 \t43.0 \t857.0   57.0   0.51\n",
      "20 \t 14 \t313.0 \t93.0 \t97.0 \t259.0 \t263.0 \t108.0 \t1133.0   81.0   0.57\n",
      "21 \t 14 \t32.0 \t81.0 \t97.0 \t192.0 \t250.0 \t57.0 \t709.0   51.0   0.6\n",
      "22 \t 8 \t0.0 \t73.0 \t109.0 \t124.0 \t141.0 \t0.0 \t446.0   56.0   0.62\n",
      "23 \t 7 \t0.0 \t39.0 \t97.0 \t246.0 \t132.0 \t0.0 \t513.0   73.0   0.64\n",
      "24 \t 14 \t14.0 \t59.0 \t61.0 \t246.0 \t125.0 \t11.0 \t515.0   37.0   0.67\n",
      "25 \t 2 \t0.0 \t0.0 \t0.0 \t130.0 \t140.0 \t0.0 \t269.0   135.0   0.68\n",
      "26 \t 12 \t0.0 \t77.0 \t72.0 \t238.0 \t264.0 \t0.0 \t652.0   54.0   0.71\n",
      "27 \t 14 \t42.0 \t69.0 \t65.0 \t241.0 \t250.0 \t33.0 \t699.0   50.0   0.74\n",
      "28 \t 6 \t0.0 \t60.0 \t58.0 \t0.0 \t283.0 \t26.0 \t427.0   71.0   0.76\n",
      "29 \t 15 \t46.0 \t87.0 \t96.0 \t256.0 \t248.0 \t32.0 \t765.0   51.0   0.79\n",
      "30 \t 9 \t31.0 \t77.0 \t85.0 \t0.0 \t252.0 \t62.0 \t507.0   56.0   0.82\n",
      "31 \t 12 \t43.0 \t78.0 \t94.0 \t282.0 \t338.0 \t52.0 \t886.0   74.0   0.86\n",
      "32 \t 12 \t61.0 \t47.0 \t76.0 \t245.0 \t248.0 \t33.0 \t710.0   59.0   0.89\n",
      "33 \t 18 \t65.0 \t91.0 \t44.0 \t59.0 \t298.0 \t32.0 \t589.0   33.0   0.92\n",
      "34 \t 14 \t32.0 \t57.0 \t78.0 \t257.0 \t268.0 \t27.0 \t719.0   51.0   0.95\n",
      "35 \t 6 \t32.0 \t0.0 \t0.0 \t251.0 \t143.0 \t21.0 \t448.0   75.0   0.97\n",
      "36 \t 12 \t50.0 \t83.0 \t109.0 \t241.0 \t124.0 \t38.0 \t645.0   54.0   1.0\n"
     ]
    },
    {
     "name": "stderr",
     "output_type": "stream",
     "text": [
      "/apps/python/3.6-conda5.2/lib/python3.6/site-packages/matplotlib/axes/_axes.py:6571: UserWarning: The 'normed' kwarg is deprecated, and has been replaced by the 'density' kwarg.\n",
      "  warnings.warn(\"The 'normed' kwarg is deprecated, and has been \"\n"
     ]
    },
    {
     "data": {
      "image/png": "[encoded data removed]",
      "text/plain": [
       "<Figure size 432x288 with 1 Axes>"
      ]
     },
     "metadata": {},
     "output_type": "display_data"
    }
   ],
   "source": [
    "#\n",
    "# How much time total for all users and all activities?\n",
    "total_time = 0.0\n",
    "for user in range(37):\n",
    "    for activity in activities:\n",
    "        total_time += activityStepsByUser[user][activity]\n",
    "\n",
    "print('User    Num    Jog    Walk   Stand     Sit  Upstairs   DownSt  TotalTime  TimePerAct Frac')\n",
    "summedFrac = 0.0\n",
    "segmentTimes = []\n",
    "for user in range(37):\n",
    "    print(user,'\\t',activitiesByUser[user],'\\t',end='')\n",
    "    total_user = 0.0\n",
    "    for activity in activities:\n",
    "        total_user += activityStepsByUser[user][activity]\n",
    "        if activityStepsByUser[user][activity]> 0.0:\n",
    "#        if activityStepsByUser[user][activity]> 0.0 and activityStepsByUser[user][activity] < 100:\n",
    "            segmentTimes.append(activityStepsByUser[user][activity])\n",
    "        print(round(activityStepsByUser[user][activity],0),'\\t',end='')\n",
    "    summedFrac += total_user/total_time\n",
    "    timePerActivity = 0.0\n",
    "    if activitiesByUser[user]>0:\n",
    "        timePerActivity = total_user / float(activitiesByUser[user])\n",
    "    print(round(total_user,0),' ',round(timePerActivity,0),' ',round(summedFrac,2))\n",
    "\n",
    "plt.hist(segmentTimes, 50, normed=1, facecolor='green', alpha=0.75)\n",
    "plt.show()"
   ]
  },
  {
   "cell_type": "markdown",
   "metadata": {},
   "source": [
    "# Data Split\n",
    "\n",
    "We might want to keep all of a given user's data in either the test or train sample - this way we use data from different people to predict behavior of new people.\n",
    "\n",
    "If we want a 80%/20% split, it looks like we can define:\n",
    "* training: user-id <=28\n",
    "* testing: user-id>28\n",
    "\n",
    "We also need to convert the 'activity' column tfrom text ('Jogging', etc) to a number (1-6) so we can one-hot encode it later.\n"
   ]
  },
  {
   "cell_type": "code",
   "execution_count": 6,
   "metadata": {},
   "outputs": [
    {
     "name": "stdout",
     "output_type": "stream",
     "text": [
      "     user-id activity       timestamp    x-axis     y-axis    z-axis  \\\n",
      "597       33  Walking  49394992294000  0.844462   8.008764  2.792171   \n",
      "598       33  Walking  49395102310000  1.116869   8.621680  3.786457   \n",
      "599       33  Walking  49395202316000 -0.503953  16.657684  1.307553   \n",
      "600       33  Walking  49395302292000  4.794363  10.760075 -1.184970   \n",
      "601       33  Walking  49395412338000 -0.040861   9.234595 -0.694638   \n",
      "\n",
      "     ActivityEncoded  \n",
      "597                5  \n",
      "598                5  \n",
      "599                5  \n",
      "600                5  \n",
      "601                5  \n"
     ]
    }
   ],
   "source": [
    "from sklearn import preprocessing\n",
    "# Define column name of the label vector\n",
    "LABEL = 'ActivityEncoded'\n",
    "# Transform the labels from String to Integer via LabelEncoder\n",
    "le = preprocessing.LabelEncoder()\n",
    "# Add a new column to the existing DataFrame with the encoded values\n",
    "df[LABEL] = le.fit_transform(df['activity'].values.ravel())\n",
    "print(df[df['activity']!='Jogging'].head())\n",
    "\n",
    "# Differentiate between test set and training set\n",
    "df_test = df[df['user-id'] > 28]\n",
    "df_train = df[df['user-id'] <= 28]"
   ]
  },
  {
   "cell_type": "markdown",
   "metadata": {},
   "source": [
    "## Normalizing feature data\n",
    "As usual, we want to normalize our features.   We will use **training set maximums** to do this."
   ]
  },
  {
   "cell_type": "code",
   "execution_count": 7,
   "metadata": {},
   "outputs": [
    {
     "name": "stdout",
     "output_type": "stream",
     "text": [
      "max values  19.95 20.04 19.61\n",
      "      user-id activity       timestamp  x-axis  y-axis  z-axis  \\\n",
      "8489       17  Walking  57869902574000  0.0287  0.4894 -0.0271   \n",
      "8490       17  Walking  57870012316000  0.0000  0.5084 -0.0292   \n",
      "8491       17  Walking  57870122301000 -0.0116  0.4914 -0.0354   \n",
      "8492       17  Walking  57870222246000  0.0075  0.5029 -0.0257   \n",
      "8493       17  Walking  57870332292000  0.0075  0.5063 -0.0313   \n",
      "\n",
      "      ActivityEncoded  \n",
      "8489                5  \n",
      "8490                5  \n",
      "8491                5  \n",
      "8492                5  \n",
      "8493                5  \n"
     ]
    }
   ],
   "source": [
    "# Normalize features for training data set (values between 0 and 1)\n",
    "# Surpress warning for next 3 operation\n",
    "pd.options.mode.chained_assignment = None  # default='warn'\n",
    "max_x = df_train['x-axis'].max()\n",
    "max_y = df_train['y-axis'].max()\n",
    "max_z = df_train['z-axis'].max()\n",
    "\n",
    "print(\"max values \", max_x,max_y,max_z)\n",
    "\n",
    "df_train['x-axis'] = df_train['x-axis'] / max_x\n",
    "df_train['y-axis'] = df_train['y-axis'] / max_y\n",
    "df_train['z-axis'] = df_train['z-axis'] / max_z\n",
    "# Round numbers\n",
    "df_train = df_train.round({'x-axis': 4, 'y-axis': 4, 'z-axis': 4})#Round the data to 4 decimal places.\n",
    "print(df_train.head())\n",
    "\n",
    "df_test['x-axis'] = df_test['x-axis'] / max_x\n",
    "df_test['y-axis'] = df_test['y-axis'] / max_y\n",
    "df_test['z-axis'] = df_test['z-axis'] / max_z\n",
    "# Round numbers\n",
    "df_test = df_test.round({'x-axis': 4, 'y-axis': 4, 'z-axis': 4})"
   ]
  },
  {
   "cell_type": "markdown",
   "metadata": {},
   "source": [
    "# Plotting \n",
    "Let's make some plots to see what the data looks like.   We will select out various activites from our primary dataframe **df**, and see if they make sense:"
   ]
  },
  {
   "cell_type": "code",
   "execution_count": 15,
   "metadata": {},
   "outputs": [
    {
     "name": "stdout",
     "output_type": "stream",
     "text": [
      "        user-id  activity       timestamp  x-axis  y-axis  z-axis  \\\n",
      "223432       27  Standing  12535892255000 -0.0942  0.4915 -0.0118   \n",
      "223433       27  Standing  12535942273000 -0.0095  0.4950 -0.0292   \n",
      "223434       27  Standing  12535992231000 -0.0306  0.5125 -0.0451   \n",
      "223435       27  Standing  12536042310000  0.0381  0.5274 -0.0896   \n",
      "223436       27  Standing  12536092206000  0.0211  0.4726 -0.0570   \n",
      "\n",
      "        ActivityEncoded  \n",
      "223432                3  \n",
      "223433                3  \n",
      "223434                3  \n",
      "223435                3  \n",
      "223436                3  \n"
     ]
    },
    {
     "ename": "NameError",
     "evalue": "name 'plt' is not defined",
     "output_type": "error",
     "traceback": [
      "\u001b[0;31m---------------------------------------------------------------------------\u001b[0m",
      "\u001b[0;31mNameError\u001b[0m                                 Traceback (most recent call last)",
      "\u001b[0;32m<ipython-input-15-041e3f70e4b4>\u001b[0m in \u001b[0;36m<module>\u001b[0;34m()\u001b[0m\n\u001b[1;32m      2\u001b[0m \u001b[0mprint\u001b[0m\u001b[0;34m(\u001b[0m\u001b[0mdf_standing\u001b[0m\u001b[0;34m.\u001b[0m\u001b[0mhead\u001b[0m\u001b[0;34m(\u001b[0m\u001b[0;34m)\u001b[0m\u001b[0;34m)\u001b[0m\u001b[0;34m\u001b[0m\u001b[0m\n\u001b[1;32m      3\u001b[0m \u001b[0;31m# gca stands for 'get current axis'\u001b[0m\u001b[0;34m\u001b[0m\u001b[0;34m\u001b[0m\u001b[0m\n\u001b[0;32m----> 4\u001b[0;31m \u001b[0max\u001b[0m \u001b[0;34m=\u001b[0m \u001b[0mplt\u001b[0m\u001b[0;34m.\u001b[0m\u001b[0mgca\u001b[0m\u001b[0;34m(\u001b[0m\u001b[0;34m)\u001b[0m\u001b[0;34m\u001b[0m\u001b[0m\n\u001b[0m\u001b[1;32m      5\u001b[0m \u001b[0;34m\u001b[0m\u001b[0m\n\u001b[1;32m      6\u001b[0m \u001b[0mdf_standing\u001b[0m\u001b[0;34m.\u001b[0m\u001b[0mplot\u001b[0m\u001b[0;34m(\u001b[0m\u001b[0mkind\u001b[0m\u001b[0;34m=\u001b[0m\u001b[0;34m'line'\u001b[0m\u001b[0;34m,\u001b[0m\u001b[0mx\u001b[0m\u001b[0;34m=\u001b[0m\u001b[0;34m'timestamp'\u001b[0m\u001b[0;34m,\u001b[0m\u001b[0my\u001b[0m\u001b[0;34m=\u001b[0m\u001b[0;34m'x-axis'\u001b[0m\u001b[0;34m,\u001b[0m\u001b[0max\u001b[0m\u001b[0;34m=\u001b[0m\u001b[0max\u001b[0m\u001b[0;34m)\u001b[0m\u001b[0;34m\u001b[0m\u001b[0m\n",
      "\u001b[0;31mNameError\u001b[0m: name 'plt' is not defined"
     ]
    }
   ],
   "source": [
    "df_standing  = df_train[df_train['activity'] == 'Standing'].iloc[:200]\n",
    "print(df_standing.head())\n",
    "# gca stands for 'get current axis'\n",
    "ax = plt.gca()\n",
    "\n",
    "df_standing.plot(kind='line',x='timestamp',y='x-axis',ax=ax)\n",
    "df_standing.plot(kind='line',x='timestamp',y='y-axis', color='red', ax=ax)\n",
    "df_standing.plot(kind='line',x='timestamp',y='z-axis', color='green', ax=ax)\n",
    "\n",
    "plt.show()\n",
    "\n",
    "\n",
    "df_walking  = df_train[df_train['activity'] == 'Walking'][:200]\n",
    "# gca stands for 'get current axis'\n",
    "ax = plt.gca()\n",
    "\n",
    "df_walking.plot(kind='line',x='timestamp',y='x-axis',ax=ax)\n",
    "df_walking.plot(kind='line',x='timestamp',y='y-axis', color='red', ax=ax)\n",
    "df_walking.plot(kind='line',x='timestamp',y='z-axis', color='green', ax=ax)\n",
    "\n",
    "plt.show()\n",
    "\n",
    "df_jogging  = df_train[df_train['activity'] == 'Jogging'][:200]\n",
    "# gca stands for 'get current axis'\n",
    "ax = plt.gca()\n",
    "\n",
    "df_jogging.plot(kind='line',x='timestamp',y='x-axis',ax=ax)\n",
    "df_jogging.plot(kind='line',x='timestamp',y='y-axis', color='red', ax=ax)\n",
    "df_jogging.plot(kind='line',x='timestamp',y='z-axis', color='green', ax=ax)\n",
    "\n",
    "plt.show()\n",
    "\n",
    "df_upstairs  = df_train[df_train['activity'] == 'Upstairs'][:200]\n",
    "# gca stands for 'get current axis'\n",
    "ax = plt.gca()\n",
    "\n",
    "df_upstairs.plot(kind='line',x='timestamp',y='x-axis',ax=ax)\n",
    "df_upstairs.plot(kind='line',x='timestamp',y='y-axis', color='red', ax=ax)\n",
    "df_upstairs.plot(kind='line',x='timestamp',y='z-axis', color='green', ax=ax)\n",
    "\n",
    "plt.show()\n"
   ]
  },
  {
   "cell_type": "code",
   "execution_count": 8,
   "metadata": {},
   "outputs": [
    {
     "data": {
      "image/png": "[encoded data removed]",
      "text/plain": [
       "<Figure size 432x288 with 1 Axes>"
      ]
     },
     "metadata": {},
     "output_type": "display_data"
    }
   ],
   "source": [
    "\n",
    "df_user  = df_train[df_train['user-id'] == 15][180:230]\n",
    "# gca stands for 'get current axis'\n",
    "ax = plt.gca()\n",
    "\n",
    "df_user.plot(kind='line',x='timestamp',y='x-axis',ax=ax)\n",
    "df_user.plot(kind='line',x='timestamp',y='y-axis', color='red', ax=ax)\n",
    "df_user.plot(kind='line',x='timestamp',y='z-axis', color='green', ax=ax)\n",
    "\n",
    "plt.show()"
   ]
  },
  {
   "cell_type": "markdown",
   "metadata": {},
   "source": [
    "## Creating our labeled data samples\n",
    "From our above plots and tables, we see that typical times that each user spends in a given activity is hundreds of seconds.   The smallest non-zero time is about 30 seconds, the largest amount of time is just under 900 seconds.\n",
    "\n",
    "We will define our samples to be 1.6 seconds, and we will assign as the label of each sample the activity that occurs the most in that sample.  To help increase the total number of samples, we can also allow some overlap in our samples.   We will **not** allow any overlap in our test data however."
   ]
  },
  {
   "cell_type": "code",
   "execution_count": 23,
   "metadata": {},
   "outputs": [
    {
     "name": "stdout",
     "output_type": "stream",
     "text": [
      "x_train shape:  (20868, 80, 3)\n",
      "20868 training samples\n",
      "y_train shape:  (20868,)\n",
      "x_test shape:  (3292, 80, 3)\n",
      "3292 testing samples\n",
      "y_test shape:  (3292,)\n",
      "5\n"
     ]
    }
   ],
   "source": [
    "from scipy import stats\n",
    "\n",
    "# Same labels will be reused throughout the program\n",
    "LABELS = ['Downstairs',\n",
    "          'Jogging',\n",
    "          'Sitting',\n",
    "          'Standing',\n",
    "          'Upstairs',\n",
    "          'Walking']\n",
    "# The number of steps within one time segment\n",
    "TIME_PERIODS = 80    # since there are 50 measurements/sec, this is 1.6 seconds of data\n",
    "# The steps to take from one segment to the next; if this value is equal to\n",
    "# TIME_PERIODS, then there is no overlap between the segments\n",
    "STEP_DISTANCE_TRAIN = 40\n",
    "STEP_DISTANCE_TEST = 80\n",
    "\n",
    "def create_segments_and_labels(df, time_steps, step, label_name):\n",
    "\n",
    "    # x, y, z acceleration as features\n",
    "    N_FEATURES = 3\n",
    "    # Number of steps to advance in each iteration (for me, it should always\n",
    "    # be equal to the time_steps in order to have no overlap between segments)\n",
    "    # step = time_steps\n",
    "    segments = []\n",
    "    labels = []\n",
    "    for i in range(0, len(df) - time_steps, step):\n",
    "        xs = df['x-axis'].values[i: i + time_steps]\n",
    "        ys = df['y-axis'].values[i: i + time_steps]\n",
    "        zs = df['z-axis'].values[i: i + time_steps]\n",
    "        # Retrieve the most often used label in this segment\n",
    "        label = stats.mode(df[label_name][i: i + time_steps])[0][0] #stats.mode finds the most common values that occurs in the array\n",
    "        #The default axis is 0\n",
    "        \n",
    "        segments.append([xs, ys, zs]) #This segments is a list of lists (nx3). xs, ys, zs are the arrays.\n",
    "        labels.append(label)\n",
    "\n",
    "    # Bring the segments into a better shape\n",
    "    reshaped_segments = np.asarray(segments, dtype= np.float32).reshape(-1, time_steps, N_FEATURES)\n",
    "    labels = np.asarray(labels)\n",
    "\n",
    "    return reshaped_segments, labels\n",
    "\n",
    "x_train, y_train = create_segments_and_labels(df_train,\n",
    "                                              TIME_PERIODS,\n",
    "                                              STEP_DISTANCE_TRAIN,\n",
    "                                              LABEL)\n",
    "x_test, y_test = create_segments_and_labels(df_test,\n",
    "                                              TIME_PERIODS,\n",
    "                                              STEP_DISTANCE_TEST,\n",
    "                                              LABEL)\n",
    "print('x_train shape: ', x_train.shape)\n",
    "print(x_train.shape[0], 'training samples')\n",
    "print('y_train shape: ', y_train.shape)\n",
    "\n",
    "print('x_test shape: ', x_test.shape)\n",
    "print(x_test.shape[0], 'testing samples')\n",
    "print('y_test shape: ', y_test.shape)\n",
    "print(y_test[10])\n",
    "#This segmentation doesn't distinguish users"
   ]
  },
  {
   "cell_type": "markdown",
   "metadata": {},
   "source": [
    "## Classifying Time Sequences Using a Fully Connected Network\n",
    "Let's begin with something reasonably simple.   We have labeled samples, each 80 time steps long, with 3 channels of information at each time step.   Let's treat this as $80\\times3=240$ total features.   We can easily write down a multi-layer network with a softmax output to classify this. \n",
    "\n",
    "Our network will look like the figure below:\n",
    "![har_fcn_fig](sequence_fcn.png)\n",
    "“Deep Neural Network Example” by Nils Ackermann is licensed under Creative Commons [CC BY-ND 4.0](https://creativecommons.org/licenses/by-nd/4.0/)"
   ]
  },
  {
   "cell_type": "code",
   "execution_count": 10,
   "metadata": {},
   "outputs": [
    {
     "name": "stdout",
     "output_type": "stream",
     "text": [
      "['Downstairs', 'Jogging', 'Sitting', 'Standing', 'Upstairs', 'Walking']\n",
      "x_train shape: (20868, 80, 3)\n",
      "input_shape: 240\n"
     ]
    },
    {
     "name": "stderr",
     "output_type": "stream",
     "text": [
      "Using TensorFlow backend.\n"
     ]
    },
    {
     "name": "stdout",
     "output_type": "stream",
     "text": [
      "New y_train shape:  (20868, 6)\n",
      "New y_test shape:  (3292, 6)\n"
     ]
    }
   ],
   "source": [
    "\n",
    "# Set input & output dimensions\n",
    "num_time_periods, num_sensors = x_train.shape[1], x_train.shape[2]\n",
    "num_classes = le.classes_.size\n",
    "print(list(le.classes_))\n",
    "\n",
    "# Reshape the input data\n",
    "input_shape = (num_time_periods*num_sensors)\n",
    "#x_train = x_train.reshape(x_train.shape[0], input_shape)\n",
    "#x_test = x_test.reshape(x_test.shape[0], input_shape)\n",
    "print('x_train shape:', x_train.shape)\n",
    "print('input_shape:', input_shape)\n",
    "\n",
    "# One-hot enocde the output labels\n",
    "from keras.utils import np_utils\n",
    "x_train = x_train.astype('float32')\n",
    "y_train = y_train.astype('float32')\n",
    "y_train_hot = np_utils.to_categorical(y_train, num_classes)\n",
    "print('New y_train shape: ', y_train_hot.shape)\n",
    "\n",
    "x_test = x_test.astype('float32')\n",
    "y_test = y_test.astype('float32')\n",
    "y_test_hot = np_utils.to_categorical(y_test, num_classes)\n",
    "print('New y_test shape: ', y_test_hot.shape)"
   ]
  },
  {
   "cell_type": "code",
   "execution_count": 11,
   "metadata": {},
   "outputs": [
    {
     "name": "stdout",
     "output_type": "stream",
     "text": [
      "_________________________________________________________________\n",
      "Layer (type)                 Output Shape              Param #   \n",
      "=================================================================\n",
      "dense_1 (Dense)              (None, 80, 100)           400       \n",
      "_________________________________________________________________\n",
      "dense_2 (Dense)              (None, 80, 100)           10100     \n",
      "_________________________________________________________________\n",
      "dense_3 (Dense)              (None, 80, 100)           10100     \n",
      "_________________________________________________________________\n",
      "flatten_1 (Flatten)          (None, 8000)              0         \n",
      "_________________________________________________________________\n",
      "dense_4 (Dense)              (None, 6)                 48006     \n",
      "=================================================================\n",
      "Total params: 68,606\n",
      "Trainable params: 68,606\n",
      "Non-trainable params: 0\n",
      "_________________________________________________________________\n",
      "None\n"
     ]
    }
   ],
   "source": [
    "import keras\n",
    "from keras.models import Sequential\n",
    "from keras.layers import Dense, Dropout, Flatten, Reshape\n",
    "model_m = Sequential()\n",
    "\n",
    "model_m.add(Dense(100, activation='relu', input_shape=(80,3)))\n",
    "model_m.add(Dense(100, activation='relu'))\n",
    "model_m.add(Dense(100, activation='relu'))\n",
    "model_m.add(Flatten())\n",
    "model_m.add(Dense(6, activation='softmax'))\n",
    "model_m.compile(loss='categorical_crossentropy',\n",
    "                optimizer='adam', metrics=['accuracy'])\n",
    "print(model_m.summary())"
   ]
  },
  {
   "cell_type": "markdown",
   "metadata": {},
   "source": [
    "## Fit the FCN\n",
    "Here we use the **callbacks** option to monitor the **validation loss**, waiting patience=4 epochs before deciding to stop training.   We also save the best model."
   ]
  },
  {
   "cell_type": "code",
   "execution_count": 12,
   "metadata": {},
   "outputs": [
    {
     "name": "stdout",
     "output_type": "stream",
     "text": [
      "Train on 20868 samples, validate on 3292 samples\n",
      "Epoch 1/50\n",
      "20868/20868 [==============================] - 10s 459us/step - loss: 0.9985 - acc: 0.6670 - val_loss: 0.8184 - val_acc: 0.6950\n",
      "Epoch 2/50\n",
      "20868/20868 [==============================] - 10s 456us/step - loss: 0.5724 - acc: 0.7979 - val_loss: 0.7704 - val_acc: 0.7181\n",
      "Epoch 3/50\n",
      "20868/20868 [==============================] - 9s 437us/step - loss: 0.5217 - acc: 0.8146 - val_loss: 0.8398 - val_acc: 0.7348\n",
      "Epoch 4/50\n",
      "20868/20868 [==============================] - 9s 435us/step - loss: 0.4994 - acc: 0.8208 - val_loss: 0.9455 - val_acc: 0.7123\n",
      "Epoch 5/50\n",
      "20868/20868 [==============================] - 10s 456us/step - loss: 0.4785 - acc: 0.8290 - val_loss: 0.9561 - val_acc: 0.7321\n",
      "Epoch 6/50\n",
      "20868/20868 [==============================] - 9s 441us/step - loss: 0.4633 - acc: 0.8328 - val_loss: 1.0226 - val_acc: 0.7324\n",
      "Best validation accuracy is: 0.7181044904965531\n"
     ]
    }
   ],
   "source": [
    "patience = 4\n",
    "callbacks_list = [\n",
    "    keras.callbacks.ModelCheckpoint(\n",
    "        filepath='best_model.har_fcn.h5',\n",
    "        monitor='val_loss', save_best_only=True),\n",
    "    keras.callbacks.EarlyStopping(monitor='val_loss', patience=patience)\n",
    "]\n",
    "\n",
    "# Hyper-parameters\n",
    "BATCH_SIZE = 400\n",
    "EPOCHS = 50\n",
    "\n",
    "# Enable validation to use ModelCheckpoint and EarlyStopping callbacks.\n",
    "history = model_m.fit(x_train,\n",
    "                      y_train_hot,\n",
    "                      batch_size=BATCH_SIZE,\n",
    "                      epochs=EPOCHS,\n",
    "                      callbacks=callbacks_list,\n",
    "                      validation_data=(x_test, y_test_hot),\n",
    "                      verbose=1)\n",
    "best_val_acc =  history.history['val_acc'][-(patience+1)]\n",
    "print(\"Best validation accuracy is:\",best_val_acc)"
   ]
  },
  {
   "cell_type": "markdown",
   "metadata": {},
   "source": [
    "# Convolutional Neural Networks for Sequences\n",
    "The performance we obtained for a single train/test split was about 71% (evaluated where the validation losss was at a minimum).   Can we do better?\n",
    "\n",
    "We recall that in our study of images, we found that 2D convolution could help - this was because there were features present in the data that were somewhat translationally and rotationally invariant.   The convolution process also allows us to **discover** features, rather than imposing the features from the outside.   We can also use the convolution process with sequences. In this case however, we will employ **1D convolution**.   \n",
    "\n",
    "First lets define the network using Keras, then we will step through the layers to see if we can understand each of the steps."
   ]
  },
  {
   "cell_type": "code",
   "execution_count": 13,
   "metadata": {},
   "outputs": [
    {
     "name": "stdout",
     "output_type": "stream",
     "text": [
      "_________________________________________________________________\n",
      "Layer (type)                 Output Shape              Param #   \n",
      "=================================================================\n",
      "conv1d_1 (Conv1D)            (None, 71, 100)           3100      \n",
      "_________________________________________________________________\n",
      "conv1d_2 (Conv1D)            (None, 62, 100)           100100    \n",
      "_________________________________________________________________\n",
      "max_pooling1d_1 (MaxPooling1 (None, 20, 100)           0         \n",
      "_________________________________________________________________\n",
      "conv1d_3 (Conv1D)            (None, 11, 160)           160160    \n",
      "_________________________________________________________________\n",
      "conv1d_4 (Conv1D)            (None, 2, 160)            256160    \n",
      "_________________________________________________________________\n",
      "global_average_pooling1d_1 ( (None, 160)               0         \n",
      "_________________________________________________________________\n",
      "dropout_1 (Dropout)          (None, 160)               0         \n",
      "_________________________________________________________________\n",
      "dense_5 (Dense)              (None, 6)                 966       \n",
      "=================================================================\n",
      "Total params: 520,486\n",
      "Trainable params: 520,486\n",
      "Non-trainable params: 0\n",
      "_________________________________________________________________\n",
      "None\n"
     ]
    }
   ],
   "source": [
    "from keras.layers import Conv1D, MaxPooling1D,GlobalAveragePooling1D\n",
    "#\n",
    "# Define a sequential model as usual\n",
    "model_m = Sequential()\n",
    "# \n",
    "# Our first layer gets the input from our samples - this is 80 time steps by 3 channels\n",
    "model_m.add(Conv1D(100, 10, activation='relu', input_shape=(80,3)))\n",
    "#\n",
    "# Anoth convolutional layer\n",
    "model_m.add(Conv1D(100, 10, activation='relu'))\n",
    "#\n",
    "# Max pooling \n",
    "model_m.add(MaxPooling1D(3))\n",
    "#\n",
    "# Two more convolutional layers\n",
    "model_m.add(Conv1D(160, 10, activation='relu'))\n",
    "model_m.add(Conv1D(160, 10, activation='relu'))\n",
    "#\n",
    "# Global average pooling use this instead of \"Flatten\" - it helps reduce overfitting\n",
    "model_m.add(GlobalAveragePooling1D())\n",
    "#model_m.add(Flatten())\n",
    "\n",
    "model_m.add(Dropout(0.5))\n",
    "model_m.add(Dense(num_classes, activation='softmax'))\n",
    "print(model_m.summary())"
   ]
  },
  {
   "cell_type": "markdown",
   "metadata": {},
   "source": [
    "# Conv1D Details!\n",
    "To understand how this works, refer to the figure below.   In most respects this sort of network is extremely similar to the 2D concolutinal networks we use for images, though there are some subtle differences.\n",
    "1.  First, it is important to remember that our data is 80 steps in time, and there are 3 channels at each step.   The convolution moves across the **time dimension** (which is why it is 1d).\n",
    "2.  In both of the figures on the left  underneath the first \"Conv Layer\" heading, time moves from top to bottom.\n",
    "3.   The first convolutional layer has a **kernel** size of 10, and there are 100 such kernels (or filters).   Note that since our input data has 3 channels, our kernels **also** have 3 channels (so the kernels are really size 10x3). In our case, with a kernel size of 10, we convolve this across 10 time steps **and** 3 chanels at each time step, outputting one number, which can be thought of as the weighted average across the 3 channels and 10 time steps.  \n",
    "4.  Since we have a default stride of 1, we move ahead 1 time step and do the same calculation.   Since we have 80 time steps, we end up with **71** total such calculations for each kernel.   Since we have 100 kernels (or filters), we have an output size for the first convolutional layer of $71x100$.\n",
    "5.  The next convolutional layers proceed in the same way, and the max pooling layer behaves just like the corresponding from our image classification networks.\n",
    "6.  Another tricky aspect of this network is a new layer called the GlobalAveragePooling1D.   This turns out to be very helpful to reduce overfitting.  The motivation for it can be found in this paper: [Network in Network](https://arxiv.org/pdf/1312.4400.pdf).\n",
    "\n",
    "\n",
    "![har_fcn_fig](sequence_cnn.png).  "
   ]
  },
  {
   "cell_type": "markdown",
   "metadata": {},
   "source": [
    "# Run the fitter!\n",
    "We run the fitter in exactly the same way as we did the FCN above."
   ]
  },
  {
   "cell_type": "code",
   "execution_count": 14,
   "metadata": {},
   "outputs": [
    {
     "name": "stdout",
     "output_type": "stream",
     "text": [
      "Train on 20868 samples, validate on 3292 samples\n",
      "Epoch 1/50\n",
      "20868/20868 [==============================] - 38s 2ms/step - loss: 0.8246 - acc: 0.7083 - val_loss: 0.6801 - val_acc: 0.7415\n",
      "Epoch 2/50\n",
      "20868/20868 [==============================] - 37s 2ms/step - loss: 0.4410 - acc: 0.8446 - val_loss: 0.7403 - val_acc: 0.7351\n",
      "Epoch 3/50\n",
      "20868/20868 [==============================] - 37s 2ms/step - loss: 0.3559 - acc: 0.8699 - val_loss: 0.6492 - val_acc: 0.7570\n",
      "Epoch 4/50\n",
      "20868/20868 [==============================] - 36s 2ms/step - loss: 0.2905 - acc: 0.8986 - val_loss: 0.5440 - val_acc: 0.8360\n",
      "Epoch 5/50\n",
      "20868/20868 [==============================] - 37s 2ms/step - loss: 0.2285 - acc: 0.9233 - val_loss: 0.5909 - val_acc: 0.8360\n",
      "Epoch 6/50\n",
      "20868/20868 [==============================] - 38s 2ms/step - loss: 0.1990 - acc: 0.9334 - val_loss: 0.5938 - val_acc: 0.8509\n",
      "Epoch 7/50\n",
      "20868/20868 [==============================] - 37s 2ms/step - loss: 0.1658 - acc: 0.9451 - val_loss: 0.5862 - val_acc: 0.8566\n",
      "Epoch 8/50\n",
      "20868/20868 [==============================] - 37s 2ms/step - loss: 0.1614 - acc: 0.9476 - val_loss: 0.5606 - val_acc: 0.8578\n"
     ]
    }
   ],
   "source": [
    "callbacks_list = [\n",
    "    keras.callbacks.ModelCheckpoint(\n",
    "        filepath='best_model.har_cnn.h5',\n",
    "        monitor='val_loss', save_best_only=True),\n",
    "    keras.callbacks.EarlyStopping(monitor='val_loss', patience=4)\n",
    "]\n",
    "\n",
    "model_m.compile(loss='categorical_crossentropy',\n",
    "                optimizer='adam', metrics=['accuracy'])\n",
    "\n",
    "BATCH_SIZE = 400\n",
    "EPOCHS = 50\n",
    "\n",
    "history = model_m.fit(x_train,\n",
    "                      y_train_hot,\n",
    "                      batch_size=BATCH_SIZE,\n",
    "                      epochs=EPOCHS,\n",
    "                      callbacks=callbacks_list,\n",
    "                      validation_data=(x_test, y_test_hot),\n",
    "                      verbose=1)"
   ]
  },
  {
   "cell_type": "code",
   "execution_count": 15,
   "metadata": {},
   "outputs": [
    {
     "name": "stdout",
     "output_type": "stream",
     "text": [
      "Best validation accuracy is: 0.8359659670479822\n"
     ]
    }
   ],
   "source": [
    "patience = 4\n",
    "best_val_acc =  history.history['val_acc'][-(patience+1)]\n",
    "print(\"Best validation accuracy is:\",best_val_acc)"
   ]
  },
  {
   "cell_type": "markdown",
   "metadata": {},
   "source": [
    "# Multi-headed Network\n",
    "We see from above that the 1D convolutional neural network greatly outperforms the standard FCN.  Awesome!  But if you notice, a key parameter in the network is the kernel size.   We can see from our plots above comparing jogging/walking/sittig/climbing stairs, that the time structure of the various activities is different.  Meaning that a larger kernal size - that covers more time steps - might make more sense for some activities, while a smaller kernel size might be more appropriate for other activities.   Can we combine these in a single network?   Yes!   Enter the **multi-headed network**!\n",
    "\n",
    "The basic idea is simple:\n",
    "1.  We have 2 (or more) networks that get the same input.\n",
    "2.  These two networks are then merged and produce the same softmax output as our above network.\n",
    "\n",
    "To implement this network, it is necessary to use the Keras Functional API, which we have already introduced.  Before we do the multi-headed network, let's do a copy of the above CNN network using the functional API:"
   ]
  },
  {
   "cell_type": "code",
   "execution_count": 16,
   "metadata": {},
   "outputs": [
    {
     "name": "stdout",
     "output_type": "stream",
     "text": [
      "_________________________________________________________________\n",
      "Layer (type)                 Output Shape              Param #   \n",
      "=================================================================\n",
      "input_1 (InputLayer)         (None, 80, 3)             0         \n",
      "_________________________________________________________________\n",
      "conv1d_5 (Conv1D)            (None, 71, 100)           3100      \n",
      "_________________________________________________________________\n",
      "conv1d_6 (Conv1D)            (None, 62, 100)           100100    \n",
      "_________________________________________________________________\n",
      "max_pooling1d_2 (MaxPooling1 (None, 20, 100)           0         \n",
      "_________________________________________________________________\n",
      "conv1d_7 (Conv1D)            (None, 11, 160)           160160    \n",
      "_________________________________________________________________\n",
      "conv1d_8 (Conv1D)            (None, 2, 160)            256160    \n",
      "_________________________________________________________________\n",
      "global_average_pooling1d_2 ( (None, 160)               0         \n",
      "_________________________________________________________________\n",
      "dropout_2 (Dropout)          (None, 160)               0         \n",
      "_________________________________________________________________\n",
      "dense_6 (Dense)              (None, 6)                 966       \n",
      "=================================================================\n",
      "Total params: 520,486\n",
      "Trainable params: 520,486\n",
      "Non-trainable params: 0\n",
      "_________________________________________________________________\n",
      "None\n"
     ]
    }
   ],
   "source": [
    "from keras.layers import Input,Conv1D, MaxPooling1D,GlobalAveragePooling1D\n",
    "from keras.models import Model\n",
    "# \n",
    "# Our first layer gets the input from our samples - this is 80 time steps by 3 channels\n",
    "#model_m.add(Conv1D(100, 10, activation='relu', input_shape=(80,3)))\n",
    "inputs1 = Input(shape=(80,3))\n",
    "conv1 = Conv1D(100, 10, activation='relu')(inputs1)\n",
    "#\n",
    "# Anoth convolutional layer\n",
    "#model_m.add(Conv1D(100, 10, activation='relu'))\n",
    "conv2 = Conv1D(100, 10, activation='relu')(conv1)\n",
    "#\n",
    "# Max pooling \n",
    "#model_m.add(MaxPooling1D(3))\n",
    "pool1 = MaxPooling1D(3)(conv2)\n",
    "#\n",
    "# Two more convolutional layers\n",
    "#model_m.add(Conv1D(160, 10, activation='relu'))\n",
    "#model_m.add(Conv1D(160, 10, activation='relu'))\n",
    "conv3 = Conv1D(160, 10, activation='relu')(pool1)\n",
    "conv4 = Conv1D(160, 10, activation='relu')(conv3)\n",
    "#\n",
    "# Global average pooling use this instead of \"Flatten\" - it helps reduce overfitting\n",
    "#model_m.add(GlobalAveragePooling1D())\n",
    "glob1 = GlobalAveragePooling1D()(conv4)\n",
    "#\n",
    "drop1 = Dropout(0.5)(glob1)\n",
    "outputs = Dense(num_classes, activation='softmax')(drop1)\n",
    "\n",
    "#\n",
    "# Now define the model\n",
    "model_m = Model(inputs=inputs1, outputs=outputs)\n",
    "print(model_m.summary())    \n",
    " "
   ]
  },
  {
   "cell_type": "code",
   "execution_count": 17,
   "metadata": {},
   "outputs": [
    {
     "name": "stdout",
     "output_type": "stream",
     "text": [
      "Train on 20868 samples, validate on 3292 samples\n",
      "Epoch 1/50\n",
      "20868/20868 [==============================] - 38s 2ms/step - loss: 0.8199 - acc: 0.7118 - val_loss: 0.5997 - val_acc: 0.7868\n",
      "Epoch 2/50\n",
      "20868/20868 [==============================] - 37s 2ms/step - loss: 0.4198 - acc: 0.8518 - val_loss: 0.5640 - val_acc: 0.7995\n",
      "Epoch 3/50\n",
      "20868/20868 [==============================] - 36s 2ms/step - loss: 0.3320 - acc: 0.8790 - val_loss: 0.5826 - val_acc: 0.8104\n",
      "Epoch 4/50\n",
      "20868/20868 [==============================] - 37s 2ms/step - loss: 0.2732 - acc: 0.9034 - val_loss: 0.5763 - val_acc: 0.8262\n",
      "Epoch 5/50\n",
      "20868/20868 [==============================] - 37s 2ms/step - loss: 0.2361 - acc: 0.9171 - val_loss: 0.6629 - val_acc: 0.8095\n",
      "Epoch 6/50\n",
      "20868/20868 [==============================] - 37s 2ms/step - loss: 0.2053 - acc: 0.9313 - val_loss: 0.6763 - val_acc: 0.8296\n"
     ]
    }
   ],
   "source": [
    "callbacks_list = [\n",
    "    keras.callbacks.ModelCheckpoint(\n",
    "        filepath='best_model.har_cnn.h5',\n",
    "        monitor='val_loss', save_best_only=True),\n",
    "    keras.callbacks.EarlyStopping(monitor='val_loss', patience=4)\n",
    "]\n",
    "\n",
    "model_m.compile(loss='categorical_crossentropy',\n",
    "                optimizer='adam', metrics=['accuracy'])\n",
    "\n",
    "BATCH_SIZE = 400\n",
    "EPOCHS = 50\n",
    "\n",
    "history = model_m.fit(x_train,\n",
    "                      y_train_hot,\n",
    "                      batch_size=BATCH_SIZE,\n",
    "                      epochs=EPOCHS,\n",
    "                      callbacks=callbacks_list,\n",
    "                      validation_data=(x_test, y_test_hot),\n",
    "                      verbose=1)"
   ]
  },
  {
   "cell_type": "code",
   "execution_count": 18,
   "metadata": {},
   "outputs": [
    {
     "name": "stdout",
     "output_type": "stream",
     "text": [
      "Best validation accuracy is: 0.7995139720373281\n"
     ]
    }
   ],
   "source": [
    "patience = 4\n",
    "best_val_acc =  history.history['val_acc'][-(patience+1)]\n",
    "print(\"Best validation accuracy is:\",best_val_acc)"
   ]
  },
  {
   "cell_type": "markdown",
   "metadata": {},
   "source": [
    "# Now the true multi-head network\n",
    "To make this network we remove the 2 convolutional layers at the end of the model - just to cut down on the total number of trainable parameters (to help reduce overfitting).   The structure of the two \"heads\" is exactly the same, except for the kernel size.   It is **not** necessary that the two networks be so similar - this is just done for convenience.   \n",
    "\n",
    "We then **merge** the two heads using a **concatenate** layer, and send the output of that through a softmax to get our final output.   There are alot of choices that can be made here: kernel sizes, number of kernels, number of convolutional layers, number of heads, amount of dropout, etc.   "
   ]
  },
  {
   "cell_type": "code",
   "execution_count": 19,
   "metadata": {},
   "outputs": [
    {
     "name": "stdout",
     "output_type": "stream",
     "text": [
      "__________________________________________________________________________________________________\n",
      "Layer (type)                    Output Shape         Param #     Connected to                     \n",
      "==================================================================================================\n",
      "input_2 (InputLayer)            (None, 80, 3)        0                                            \n",
      "__________________________________________________________________________________________________\n",
      "input_3 (InputLayer)            (None, 80, 3)        0                                            \n",
      "__________________________________________________________________________________________________\n",
      "conv1d_9 (Conv1D)               (None, 71, 100)      3100        input_2[0][0]                    \n",
      "__________________________________________________________________________________________________\n",
      "conv1d_11 (Conv1D)              (None, 61, 100)      6100        input_3[0][0]                    \n",
      "__________________________________________________________________________________________________\n",
      "conv1d_10 (Conv1D)              (None, 62, 100)      100100      conv1d_9[0][0]                   \n",
      "__________________________________________________________________________________________________\n",
      "conv1d_12 (Conv1D)              (None, 42, 100)      200100      conv1d_11[0][0]                  \n",
      "__________________________________________________________________________________________________\n",
      "max_pooling1d_3 (MaxPooling1D)  (None, 20, 100)      0           conv1d_10[0][0]                  \n",
      "__________________________________________________________________________________________________\n",
      "max_pooling1d_4 (MaxPooling1D)  (None, 14, 100)      0           conv1d_12[0][0]                  \n",
      "__________________________________________________________________________________________________\n",
      "global_average_pooling1d_3 (Glo (None, 100)          0           max_pooling1d_3[0][0]            \n",
      "__________________________________________________________________________________________________\n",
      "global_average_pooling1d_4 (Glo (None, 100)          0           max_pooling1d_4[0][0]            \n",
      "__________________________________________________________________________________________________\n",
      "dropout_3 (Dropout)             (None, 100)          0           global_average_pooling1d_3[0][0] \n",
      "__________________________________________________________________________________________________\n",
      "dropout_4 (Dropout)             (None, 100)          0           global_average_pooling1d_4[0][0] \n",
      "__________________________________________________________________________________________________\n",
      "concatenate_1 (Concatenate)     (None, 200)          0           dropout_3[0][0]                  \n",
      "                                                                 dropout_4[0][0]                  \n",
      "__________________________________________________________________________________________________\n",
      "dense_7 (Dense)                 (None, 100)          20100       concatenate_1[0][0]              \n",
      "__________________________________________________________________________________________________\n",
      "dense_8 (Dense)                 (None, 6)            606         dense_7[0][0]                    \n",
      "==================================================================================================\n",
      "Total params: 330,106\n",
      "Trainable params: 330,106\n",
      "Non-trainable params: 0\n",
      "__________________________________________________________________________________________________\n",
      "None\n"
     ]
    }
   ],
   "source": [
    "from keras.layers import Input,Conv1D, MaxPooling1D,GlobalAveragePooling1D\n",
    "from keras.models import Model\n",
    "from keras.layers.merge import concatenate\n",
    "# \n",
    "#\n",
    "inputs1 = Input(shape=(80,3))\n",
    "h1conv1 = Conv1D(filters=100, kernel_size=10, activation='relu')(inputs1)\n",
    "h1conv2 = Conv1D(filters=100, kernel_size=10, activation='relu')(h1conv1)\n",
    "h1pool1 = MaxPooling1D(3)(h1conv2)\n",
    "h1glob1 = GlobalAveragePooling1D()(h1pool1)\n",
    "h1drop1 = Dropout(0.5)(h1glob1)\n",
    "#\n",
    "inputs2 = Input(shape=(80,3))\n",
    "h2conv1 = Conv1D(filters=100, kernel_size=20, activation='relu')(inputs2)\n",
    "h2conv2 = Conv1D(filters=100, kernel_size=20, activation='relu')(h2conv1)\n",
    "h2pool1 = MaxPooling1D(3)(h2conv2)\n",
    "h2glob1 = GlobalAveragePooling1D()(h2pool1)\n",
    "h2drop1 = Dropout(0.5)(h2glob1)\n",
    "\n",
    "#\n",
    "# Concatentate the output of the above two branches\n",
    "merged = concatenate([h1drop1,h2drop1])\n",
    "dense1 = Dense(100, activation='relu')(merged)\n",
    "outputs = Dense(6, activation='softmax')(dense1)\n",
    "\n",
    "#\n",
    "# Now define the model\n",
    "model_m = Model(inputs=[inputs1, inputs2], outputs=outputs)\n",
    "print(model_m.summary())    \n",
    " "
   ]
  },
  {
   "cell_type": "code",
   "execution_count": null,
   "metadata": {},
   "outputs": [
    {
     "name": "stdout",
     "output_type": "stream",
     "text": [
      "Train on 20868 samples, validate on 3292 samples\n",
      "Epoch 1/50\n",
      "20868/20868 [==============================] - 65s 3ms/step - loss: 0.9807 - acc: 0.6552 - val_loss: 0.7883 - val_acc: 0.6537\n",
      "Epoch 2/50\n",
      "20868/20868 [==============================] - 64s 3ms/step - loss: 0.6331 - acc: 0.7603 - val_loss: 0.6109 - val_acc: 0.8083\n",
      "Epoch 3/50\n",
      "20868/20868 [==============================] - 62s 3ms/step - loss: 0.5302 - acc: 0.8063 - val_loss: 0.5795 - val_acc: 0.8129\n",
      "Epoch 4/50\n",
      "20868/20868 [==============================] - 65s 3ms/step - loss: 0.4817 - acc: 0.8248 - val_loss: 0.5498 - val_acc: 0.8135\n",
      "Epoch 5/50\n",
      "20868/20868 [==============================] - 64s 3ms/step - loss: 0.4450 - acc: 0.8373 - val_loss: 0.5516 - val_acc: 0.8092\n",
      "Epoch 6/50\n",
      "20868/20868 [==============================] - 62s 3ms/step - loss: 0.4072 - acc: 0.8478 - val_loss: 0.5179 - val_acc: 0.8153\n",
      "Epoch 7/50\n",
      "20868/20868 [==============================] - 63s 3ms/step - loss: 0.3828 - acc: 0.8581 - val_loss: 0.4771 - val_acc: 0.8174\n",
      "Epoch 8/50\n",
      "20868/20868 [==============================] - 63s 3ms/step - loss: 0.3479 - acc: 0.8706 - val_loss: 0.4525 - val_acc: 0.8275\n",
      "Epoch 9/50\n",
      "20868/20868 [==============================] - 63s 3ms/step - loss: 0.3316 - acc: 0.8782 - val_loss: 0.4556 - val_acc: 0.8287\n",
      "Epoch 10/50\n",
      "20868/20868 [==============================] - 62s 3ms/step - loss: 0.3068 - acc: 0.8881 - val_loss: 0.4447 - val_acc: 0.8402\n",
      "Epoch 11/50\n",
      "20868/20868 [==============================] - 60s 3ms/step - loss: 0.2867 - acc: 0.8941 - val_loss: 0.4025 - val_acc: 0.8666\n",
      "Epoch 12/50\n",
      "20868/20868 [==============================] - 60s 3ms/step - loss: 0.2720 - acc: 0.9029 - val_loss: 0.3958 - val_acc: 0.8627\n",
      "Epoch 13/50\n",
      "20868/20868 [==============================] - 61s 3ms/step - loss: 0.2449 - acc: 0.9156 - val_loss: 0.3693 - val_acc: 0.8925\n",
      "Epoch 14/50\n",
      "20868/20868 [==============================] - 62s 3ms/step - loss: 0.2373 - acc: 0.9170 - val_loss: 0.3827 - val_acc: 0.8846\n",
      "Epoch 15/50\n",
      "20868/20868 [==============================] - 62s 3ms/step - loss: 0.2218 - acc: 0.9240 - val_loss: 0.3724 - val_acc: 0.8834\n",
      "Epoch 16/50\n",
      "20868/20868 [==============================] - 64s 3ms/step - loss: 0.2084 - acc: 0.9280 - val_loss: 0.3615 - val_acc: 0.8818\n",
      "Epoch 17/50\n",
      "20868/20868 [==============================] - 62s 3ms/step - loss: 0.1987 - acc: 0.9329 - val_loss: 0.3602 - val_acc: 0.8885\n",
      "Epoch 18/50\n",
      "20868/20868 [==============================] - 62s 3ms/step - loss: 0.1927 - acc: 0.9343 - val_loss: 0.3526 - val_acc: 0.8991\n",
      "Epoch 19/50\n",
      "20868/20868 [==============================] - 62s 3ms/step - loss: 0.1837 - acc: 0.9367 - val_loss: 0.3364 - val_acc: 0.9013\n",
      "Epoch 20/50\n",
      "20868/20868 [==============================] - 63s 3ms/step - loss: 0.1753 - acc: 0.9414 - val_loss: 0.3338 - val_acc: 0.9013\n",
      "Epoch 21/50\n",
      "20868/20868 [==============================] - 63s 3ms/step - loss: 0.1763 - acc: 0.9405 - val_loss: 0.3619 - val_acc: 0.8979\n",
      "Epoch 22/50\n",
      "20868/20868 [==============================] - 61s 3ms/step - loss: 0.1636 - acc: 0.9438 - val_loss: 0.3416 - val_acc: 0.9125\n",
      "Epoch 23/50\n",
      "20868/20868 [==============================] - 61s 3ms/step - loss: 0.1588 - acc: 0.9465 - val_loss: 0.3579 - val_acc: 0.8982\n",
      "Epoch 24/50\n",
      " 2800/20868 [===>..........................] - ETA: 54s - loss: 0.1468 - acc: 0.9536"
     ]
    }
   ],
   "source": [
    "callbacks_list = [\n",
    "    keras.callbacks.ModelCheckpoint(\n",
    "        filepath='best_model.har_cnn.h5',\n",
    "        monitor='val_loss', save_best_only=True),\n",
    "    keras.callbacks.EarlyStopping(monitor='val_loss', patience=4)\n",
    "]\n",
    "\n",
    "model_m.compile(loss='categorical_crossentropy',\n",
    "                optimizer='adam', metrics=['accuracy'])\n",
    "\n",
    "BATCH_SIZE = 400\n",
    "EPOCHS = 50\n",
    "\n",
    "history = model_m.fit([x_train,x_train],\n",
    "                      y_train_hot,\n",
    "                      batch_size=BATCH_SIZE,\n",
    "                      epochs=EPOCHS,\n",
    "                      callbacks=callbacks_list,\n",
    "                      validation_data=([x_test,x_test], y_test_hot),\n",
    "                      verbose=1)\n",
    "print(\"Validation accuracies by epoch \",history.history[\"val_acc\"])"
   ]
  },
  {
   "cell_type": "code",
   "execution_count": 19,
   "metadata": {},
   "outputs": [
    {
     "ename": "NameError",
     "evalue": "name 'history' is not defined",
     "output_type": "error",
     "traceback": [
      "\u001b[0;31m---------------------------------------------------------------------------\u001b[0m",
      "\u001b[0;31mNameError\u001b[0m                                 Traceback (most recent call last)",
      "\u001b[0;32m<ipython-input-19-a716e7fbef04>\u001b[0m in \u001b[0;36m<module>\u001b[0;34m()\u001b[0m\n\u001b[1;32m      1\u001b[0m \u001b[0mpatience\u001b[0m \u001b[0;34m=\u001b[0m \u001b[0;36m4\u001b[0m\u001b[0;34m\u001b[0m\u001b[0m\n\u001b[0;32m----> 2\u001b[0;31m \u001b[0mbest_val_acc\u001b[0m \u001b[0;34m=\u001b[0m  \u001b[0mhistory\u001b[0m\u001b[0;34m.\u001b[0m\u001b[0mhistory\u001b[0m\u001b[0;34m[\u001b[0m\u001b[0;34m'val_acc'\u001b[0m\u001b[0;34m]\u001b[0m\u001b[0;34m[\u001b[0m\u001b[0;34m-\u001b[0m\u001b[0;34m(\u001b[0m\u001b[0mpatience\u001b[0m\u001b[0;34m+\u001b[0m\u001b[0;36m1\u001b[0m\u001b[0;34m)\u001b[0m\u001b[0;34m]\u001b[0m\u001b[0;34m\u001b[0m\u001b[0m\n\u001b[0m\u001b[1;32m      3\u001b[0m \u001b[0mprint\u001b[0m\u001b[0;34m(\u001b[0m\u001b[0;34m\"Best validation accuracy is:\"\u001b[0m\u001b[0;34m,\u001b[0m\u001b[0mbest_val_acc\u001b[0m\u001b[0;34m)\u001b[0m\u001b[0;34m\u001b[0m\u001b[0m\n",
      "\u001b[0;31mNameError\u001b[0m: name 'history' is not defined"
     ]
    }
   ],
   "source": [
    "patience = 4\n",
    "best_val_acc =  history.history['val_acc'][-(patience+1)]\n",
    "print(\"Best validation accuracy is:\",best_val_acc)"
   ]
  },
  {
   "cell_type": "code",
   "execution_count": null,
   "metadata": {},
   "outputs": [],
   "source": []
  }
 ],
 "metadata": {
  "kernelspec": {
   "display_name": "Python 3.6 (Conda 5.2) [python/3.6-conda5.2]",
   "language": "python",
   "name": "sys_python36conda"
  },
  "language_info": {
   "codemirror_mode": {
    "name": "ipython",
    "version": 3
   },
   "file_extension": ".py",
   "mimetype": "text/x-python",
   "name": "python",
   "nbconvert_exporter": "python",
   "pygments_lexer": "ipython3",
   "version": "3.6.6"
  }
 },
 "nbformat": 4,
 "nbformat_minor": 2
}
