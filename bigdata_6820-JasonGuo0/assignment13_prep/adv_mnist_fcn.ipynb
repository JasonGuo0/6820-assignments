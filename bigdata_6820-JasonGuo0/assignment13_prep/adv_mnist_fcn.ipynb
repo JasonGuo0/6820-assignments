{
 "cells": [
  {
   "cell_type": "markdown",
   "metadata": {},
   "source": [
    "# Adverserial Examples\n",
    "\n",
    "Consider an input $x$ with true label $y$, to a machine learning classifier model.  An **adversarial example** for this model would be an input $\\tilde{x}$ whose values are only slightly different from $x$ such that the model will misclassify it as a different label $\\tilde{y}$.\n",
    "\n",
    "The initial thought was that these examples had something to do with the nonlinearity inherent in complex machine learning models.   However, the paper [\"EXPLAINING AND HARNESSING\n",
    "ADVERSARIAL EXAMPLES\"](https://arxiv.org/pdf/1412.6572.pdf) by Ian J. Goodfellow, Jonathon Shlens and Christian Szegedy of Google, indicate that in fact this behaviour comes about due to the following:\n",
    "*  the **linear** behaviour of such networks\n",
    "*  the **high dimensionality** of the input spaces they operate in\n",
    "\n",
    "They also show that this leads to a relatively easy method for generating such examples.   In this workbook we will follow their prescription.\n"
   ]
  },
  {
   "cell_type": "markdown",
   "metadata": {},
   "source": [
    "## Get the data\n",
    "Here we will use the standard MNIST sample included with Keras."
   ]
  },
  {
   "cell_type": "code",
   "execution_count": 7,
   "metadata": {},
   "outputs": [
    {
     "name": "stdout",
     "output_type": "stream",
     "text": [
      "Train info (60000, 28, 28) (60000,)\n",
      "Test info (10000, 28, 28) (10000,)\n",
      "Test_images shape (10000, 784)\n"
     ]
    }
   ],
   "source": [
    "import keras\n",
    "import tensorflow\n",
    "from keras.datasets import mnist\n",
    "(train_images, train_labels), (test_images, test_labels) = mnist.load_data()\n",
    "\n",
    "short = False\n",
    "if short:\n",
    "    train_images = train_images[:7000,:]\n",
    "    train_labels = train_labels[:7000]\n",
    "    test_images = test_images[:3000,:]\n",
    "    test_labels = test_labels[:3000]\n",
    "#\n",
    "print(\"Train info\",train_images.shape, train_labels.shape)\n",
    "print(\"Test info\",test_images.shape, test_labels.shape)\n",
    "train_images = train_images.reshape((train_images.shape[0],784))\n",
    "train_images = train_images.astype('float32')/255\n",
    "\n",
    "test_images = test_images.reshape((test_images.shape[0],784))\n",
    "test_images = test_images.astype('float32')/255\n",
    "from keras.utils import to_categorical\n",
    "\n",
    "train_labels_cat = to_categorical(train_labels)\n",
    "test_labels_cat = to_categorical(test_labels)\n",
    "\n",
    "print(\"Test_images shape\", test_images.shape)"
   ]
  },
  {
   "cell_type": "markdown",
   "metadata": {},
   "source": [
    "## A fully connected network (FCN) MNIST Classifier\n",
    "The paper states that they can easily generate adverserial examples using a **shallow** MNIST classifier.   In this context, \"shallow\" typically means 1 hidden layer, and usually just refers to fully connected networks.   \"Deep learning\" uses multiple hidden layers and pooling techniques, and often refers to models which **learn** their features: convolutional neural networks are thus \"deep\".\n",
    "\n",
    "Given that, let's build a very simple single layer FCN.  Below we will also apply this to a \"deep\" model."
   ]
  },
  {
   "cell_type": "code",
   "execution_count": 8,
   "metadata": {},
   "outputs": [
    {
     "name": "stdout",
     "output_type": "stream",
     "text": [
      "_________________________________________________________________\n",
      "Layer (type)                 Output Shape              Param #   \n",
      "=================================================================\n",
      "dense_4 (Dense)              (None, 400)               314000    \n",
      "_________________________________________________________________\n",
      "dense_5 (Dense)              (None, 10)                4010      \n",
      "=================================================================\n",
      "Total params: 318,010\n",
      "Trainable params: 318,010\n",
      "Non-trainable params: 0\n",
      "_________________________________________________________________\n",
      "summary None\n",
      "Train on 60000 samples, validate on 10000 samples\n",
      "Epoch 1/5\n",
      "60000/60000 [==============================] - 4s 60us/step - loss: 0.2781 - acc: 0.9218 - val_loss: 0.1421 - val_acc: 0.9586\n",
      "Epoch 2/5\n",
      "60000/60000 [==============================] - 3s 57us/step - loss: 0.1157 - acc: 0.9659 - val_loss: 0.0997 - val_acc: 0.9686\n",
      "Epoch 3/5\n",
      "60000/60000 [==============================] - 3s 57us/step - loss: 0.0766 - acc: 0.9776 - val_loss: 0.0792 - val_acc: 0.9760\n",
      "Epoch 4/5\n",
      "60000/60000 [==============================] - 3s 57us/step - loss: 0.0556 - acc: 0.9841 - val_loss: 0.0731 - val_acc: 0.9773\n",
      "Epoch 5/5\n",
      "60000/60000 [==============================] - 3s 57us/step - loss: 0.0420 - acc: 0.9874 - val_loss: 0.0641 - val_acc: 0.9786\n"
     ]
    }
   ],
   "source": [
    "from keras import models\n",
    "from keras import layers\n",
    "\n",
    "network = models.Sequential()\n",
    "network.add(layers.Dense(400,activation='relu',input_shape=(28*28,)))\n",
    "network.add(layers.Dense(10,activation='softmax'))\n",
    "\n",
    "print(\"summary\",network.summary())\n",
    "\n",
    "network.compile(optimizer='adam',loss='categorical_crossentropy',metrics=['accuracy'])\n",
    "#\n",
    "history = network.fit(train_images,train_labels_cat,epochs=5,batch_size=128,validation_data=(test_images,test_labels_cat))\n"
   ]
  },
  {
   "cell_type": "markdown",
   "metadata": {},
   "source": [
    "## Helper display function\n",
    "We are going to want to display both are starting **true** example, as well as the **adverserial** example we will generate from that true example, so let's define a helper display function."
   ]
  },
  {
   "cell_type": "code",
   "execution_count": 10,
   "metadata": {},
   "outputs": [],
   "source": [
    "import matplotlib.pyplot as plt\n",
    "%matplotlib inline\n",
    "def plot_img(img):\n",
    "    img = img.reshape(28,28)\n",
    "    plt.imshow(img)\n",
    "    plt.show()\n"
   ]
  },
  {
   "cell_type": "markdown",
   "metadata": {},
   "source": [
    "## Quick test of the network\n",
    "Lets pass in a single example from of test examples.   "
   ]
  },
  {
   "cell_type": "code",
   "execution_count": 11,
   "metadata": {},
   "outputs": [
    {
     "name": "stdout",
     "output_type": "stream",
     "text": [
      "True label:                  4\n",
      "Predicted label:             4\n",
      "Predicted probability:       0.98978066\n",
      "Predictions for all classes: [[6.3347463e-05 6.3997794e-07 3.3730743e-05 1.1642200e-07 9.8978066e-01\n",
      "  5.2809236e-07 7.1310322e-05 2.1597363e-04 9.8960254e-06 9.8238625e-03]]\n"
     ]
    },
    {
     "data": {
      "image/png": "[encoded data removed]",
      "text/plain": [
       "<Figure size 432x288 with 1 Axes>"
      ]
     },
     "metadata": {},
     "output_type": "display_data"
    }
   ],
   "source": [
    "import numpy as np\n",
    "#\n",
    "# Define the sample using the index into the numpy arrays\n",
    "sample = 4\n",
    "#\n",
    "# Get the individual prediction for a single sample in the test set\n",
    "test_image = test_images[sample].reshape(1,784)\n",
    "test_label = test_labels[sample]\n",
    "predictions = network.predict(test_image)\n",
    "#\n",
    "# Get the max probability\n",
    "prob = np.max(predictions, axis = 1)\n",
    "#\n",
    "# Get the predicted classes for each row\n",
    "predLabel = np.argmax(predictions, axis = 1)\n",
    "print(\"True label:                 \",test_label)\n",
    "print(\"Predicted label:            \",predLabel[0])\n",
    "print(\"Predicted probability:      \",prob[0])\n",
    "print(\"Predictions for all classes:\",predictions)\n",
    "#\n",
    "# Now display\n",
    "plot_img(test_image)\n"
   ]
  },
  {
   "cell_type": "markdown",
   "metadata": {},
   "source": [
    "## Generating Adverserial images\n",
    "To generate adverserial images, we will start with a test image, and perturb it by a small amount $\\eta$.   How do we determine $\\eta$?   For our MNIST images, they are encoded using 8-bit precision, with a maximum of 255.   There we expect that changes to an image of the scale less than $\\eta$=1/255=0.004 should not be noticeable.  Formally, we will set:\n",
    "$$\\tilde{x} = x + \\eta$$\n",
    "Looking at how this might interact with the weights $w$ in a network, we can see that:\n",
    "$$w^T\\tilde{x} = w^T x + w^T\\eta$$\n",
    "If the average value of the weights is $m$, and the dimension of the weights is $n$, then the impact of such a perturbation is $mn\\eta$.  This implies that we can make many small changes to the input $x$, which leave it relatively unchanged, while imparting a large change to the output of the network.   The authors of the above paper call this \"accidental steganography\": steganography is the practice of concealing a file, message, image, or video within another file, message, image, or video.\n",
    "\n",
    "The authors suggest this method to determine $\\eta$.  Let θ be the parameters of the model, x the input to the model, y the targets associated with x, and J(θ, x, y) be the cost used to train the neural network, then:\n",
    "$$\\eta = \\epsilon ~sign (\\triangledown_x J(θ, x, y))$$\n",
    "where the \"sign\" function simply returns the sign of the argument and $\\epsilon$ is a free parameter which controls the size of the step.   The authors suggest numbers like 0.1-0.25, but we will use smaller values like 0.02.\n",
    "\n",
    "To calculate the gradient of the loss with respect to the input, we will follow exactly the same idea as used in the \"Deep Learning\" book: section 5.4.2 \"Visualizing covnet filters\".\n",
    "\n",
    "Read through the code and comments below to make sure you follow the procedure, at least conceptually.\n"
   ]
  },
  {
   "cell_type": "code",
   "execution_count": 14,
   "metadata": {},
   "outputs": [
    {
     "name": "stdout",
     "output_type": "stream",
     "text": [
      "<class 'numpy.ndarray'>\n",
      "Predictions [[3.8040540e-08 9.9903381e-01 1.7995112e-06 1.4389487e-06 8.6556181e-05\n",
      "  2.1652336e-07 1.9202658e-07 8.6158112e-04 1.3456788e-05 8.7864333e-07]]\n",
      "Test label 4\n",
      "Pred class [1]\n",
      "0 [1] [[6.0405392e-07 8.5803533e-01 5.6488843e-06 2.7780634e-05 6.6160853e-04\n",
      "  3.1404215e-06 8.0052223e-07 1.4100136e-01 2.3582506e-04 2.7837177e-05]]\n",
      "1 [7] [[3.31651279e-07 3.01940441e-02 1.01954220e-06 3.03618799e-05\n",
      "  1.05378160e-04 1.85673582e-06 1.17291016e-07 9.69514310e-01\n",
      "  1.29310036e-04 2.34036706e-05]]\n",
      "<class 'tensorflow.python.framework.ops.Tensor'>\n"
     ]
    },
    {
     "data": {
      "image/png": "[encoded data removed]",
      "text/plain": [
       "<Figure size 432x288 with 1 Axes>"
      ]
     },
     "metadata": {},
     "output_type": "display_data"
    },
    {
     "data": {
      "image/png": "[encoded data removed]",
      "text/plain": [
       "<Figure size 432x288 with 1 Axes>"
      ]
     },
     "metadata": {},
     "output_type": "display_data"
    },
    {
     "data": {
      "image/png": "[encoded data removed]",
      "text/plain": [
       "<Figure size 432x288 with 1 Axes>"
      ]
     },
     "metadata": {},
     "output_type": "display_data"
    }
   ],
   "source": [
    "import keras.backend as K\n",
    "# Initialize adversarial example with input image\n",
    "sample = 5\n",
    "test_image = test_images[sample].reshape((1,784))\n",
    "x = test_image\n",
    "x_adv = x\n",
    "print(type(x_adv))\n",
    "predictions = network.predict(x_adv)\n",
    "#\n",
    "# Get the max probabilites for each rows\n",
    "probs = np.max(predictions, axis = 1)\n",
    "#\n",
    "# Get the predicted classes for each row\n",
    "predclass = np.argmax(predictions, axis = 1)\n",
    "print(\"Predictions\",predictions)\n",
    "print(\"Test label\",test_label)\n",
    "print(\"Pred class\",predclass)\n",
    "#\n",
    "# Set variables\n",
    "epochs = 15\n",
    "epsilon = 0.02\n",
    "#\n",
    "# The target is a one-hot array of 1x10\n",
    "target = np.zeros((1,10))\n",
    "#\n",
    "# Set the target to its true value for the real input\n",
    "target[0,predclass[0]] = 1\n",
    "#\n",
    "# Define the loss function\n",
    "loss = K.categorical_crossentropy(target, network.output)\n",
    "#\n",
    "# Get the gradient of the cost function with respect to the *input*\n",
    "grads = K.gradients(loss, network.input)[0]\n",
    "#\n",
    "# This next line **defines** the \"iterate\" function using the \"K.function\" method.\n",
    "# This takes the given network input and calculates the loss and the gradient.\n",
    "iterate = K.function([network.input],[loss,grads])\n",
    "#\n",
    "# Now actually do the calculations\n",
    "for i in range(epochs): \n",
    "#\n",
    "# Get the loss and gradient value given our input image\n",
    "    loss_value, grads_value = iterate([x_adv])\n",
    "#\n",
    "# Update the input - make or small changes here!\n",
    "    x_adv = x_adv + epsilon*K.sign(grads_value)\n",
    "#\n",
    "# Now we can get the prediction given our modified image\n",
    "    preds = network.predict(x_adv,steps=1)\n",
    "    print(i, np.argmax(preds, axis = 1),preds)\n",
    "#\n",
    "# Once our predicted class is no longer the same as our starting class, jump out of the loop\n",
    "    if predclass != np.argmax(preds, axis = 1)[0]:\n",
    "        break\n",
    "#\n",
    "# Convert from a tensorflow tensor to a numpy array\n",
    "print(type(x_adv))\n",
    "x_adv = K.eval(x_adv)\n",
    "#print(x_adv)\n",
    "#\n",
    "# Plot the starting image, the modified image, and their difference\n",
    "plot_img(x)   \n",
    "plot_img(x_adv)   \n",
    "plot_img(x_adv-x)"
   ]
  },
  {
   "cell_type": "markdown",
   "metadata": {},
   "source": [
    "## Simple Tasks\n",
    "Here are some things to try:\n",
    "1.  Try different example inputs - see if the adverserial examples are more difficult to generate for certain digits.\n",
    "2.  Try playing with different $\\epsilon$ values."
   ]
  },
  {
   "cell_type": "markdown",
   "metadata": {},
   "source": [
    "## Less Simple Task\n",
    "Modify the code blocks below to make a simple CNN classifier for MNIST.   Train it and then use the same procedure as above to generate adverserial examples (that code is repeated as well below)."
   ]
  },
  {
   "cell_type": "code",
   "execution_count": 6,
   "metadata": {},
   "outputs": [
    {
     "ename": "ValueError",
     "evalue": "This model has not yet been built. Build the model first by calling build() or calling fit() with some data. Or specify input_shape or batch_input_shape in the first layer for automatic build. ",
     "output_type": "error",
     "traceback": [
      "\u001b[0;31m---------------------------------------------------------------------------\u001b[0m",
      "\u001b[0;31mValueError\u001b[0m                                Traceback (most recent call last)",
      "\u001b[0;32m<ipython-input-6-d407796617dc>\u001b[0m in \u001b[0;36m<module>\u001b[0;34m()\u001b[0m\n\u001b[1;32m     10\u001b[0m \u001b[0mnetwork\u001b[0m\u001b[0;34m.\u001b[0m\u001b[0madd\u001b[0m\u001b[0;34m(\u001b[0m\u001b[0mlayers\u001b[0m\u001b[0;34m.\u001b[0m\u001b[0mDense\u001b[0m\u001b[0;34m(\u001b[0m\u001b[0;36m10\u001b[0m\u001b[0;34m,\u001b[0m\u001b[0mactivation\u001b[0m\u001b[0;34m=\u001b[0m\u001b[0;34m'softmax'\u001b[0m\u001b[0;34m)\u001b[0m\u001b[0;34m)\u001b[0m\u001b[0;34m\u001b[0m\u001b[0m\n\u001b[1;32m     11\u001b[0m \u001b[0mnetwork\u001b[0m\u001b[0;34m.\u001b[0m\u001b[0mcompile\u001b[0m\u001b[0;34m(\u001b[0m\u001b[0moptimizer\u001b[0m\u001b[0;34m=\u001b[0m\u001b[0;34m'adam'\u001b[0m\u001b[0;34m,\u001b[0m\u001b[0mloss\u001b[0m\u001b[0;34m=\u001b[0m\u001b[0;34m'categorical_crossentropy'\u001b[0m\u001b[0;34m,\u001b[0m\u001b[0mmetrics\u001b[0m\u001b[0;34m=\u001b[0m\u001b[0;34m[\u001b[0m\u001b[0;34m'accuracy'\u001b[0m\u001b[0;34m]\u001b[0m\u001b[0;34m)\u001b[0m\u001b[0;34m\u001b[0m\u001b[0m\n\u001b[0;32m---> 12\u001b[0;31m \u001b[0mprint\u001b[0m\u001b[0;34m(\u001b[0m\u001b[0mnetwork\u001b[0m\u001b[0;34m.\u001b[0m\u001b[0msummary\u001b[0m\u001b[0;34m(\u001b[0m\u001b[0;34m)\u001b[0m\u001b[0;34m)\u001b[0m\u001b[0;34m\u001b[0m\u001b[0m\n\u001b[0m\u001b[1;32m     13\u001b[0m \u001b[0;31m#\u001b[0m\u001b[0;34m\u001b[0m\u001b[0;34m\u001b[0m\u001b[0m\n\u001b[1;32m     14\u001b[0m \u001b[0mhistory\u001b[0m \u001b[0;34m=\u001b[0m \u001b[0mnetwork\u001b[0m\u001b[0;34m.\u001b[0m\u001b[0mfit\u001b[0m\u001b[0;34m(\u001b[0m\u001b[0mtrain_images\u001b[0m\u001b[0;34m,\u001b[0m\u001b[0mtrain_labels_cat\u001b[0m\u001b[0;34m,\u001b[0m\u001b[0mepochs\u001b[0m\u001b[0;34m=\u001b[0m\u001b[0;36m5\u001b[0m\u001b[0;34m,\u001b[0m\u001b[0mbatch_size\u001b[0m\u001b[0;34m=\u001b[0m\u001b[0;36m128\u001b[0m\u001b[0;34m,\u001b[0m\u001b[0mvalidation_data\u001b[0m\u001b[0;34m=\u001b[0m\u001b[0;34m(\u001b[0m\u001b[0mtest_images\u001b[0m\u001b[0;34m,\u001b[0m\u001b[0mtest_labels_cat\u001b[0m\u001b[0;34m)\u001b[0m\u001b[0;34m)\u001b[0m\u001b[0;34m\u001b[0m\u001b[0m\n",
      "\u001b[0;32m~/.local/lib/python3.6/site-packages/keras/engine/network.py\u001b[0m in \u001b[0;36msummary\u001b[0;34m(self, line_length, positions, print_fn)\u001b[0m\n\u001b[1;32m   1250\u001b[0m         \u001b[0;32mif\u001b[0m \u001b[0;32mnot\u001b[0m \u001b[0mself\u001b[0m\u001b[0;34m.\u001b[0m\u001b[0mbuilt\u001b[0m\u001b[0;34m:\u001b[0m\u001b[0;34m\u001b[0m\u001b[0m\n\u001b[1;32m   1251\u001b[0m             raise ValueError(\n\u001b[0;32m-> 1252\u001b[0;31m                 \u001b[0;34m'This model has not yet been built. '\u001b[0m\u001b[0;34m\u001b[0m\u001b[0m\n\u001b[0m\u001b[1;32m   1253\u001b[0m                 \u001b[0;34m'Build the model first by calling build() '\u001b[0m\u001b[0;34m\u001b[0m\u001b[0m\n\u001b[1;32m   1254\u001b[0m                 \u001b[0;34m'or calling fit() with some data. '\u001b[0m\u001b[0;34m\u001b[0m\u001b[0m\n",
      "\u001b[0;31mValueError\u001b[0m: This model has not yet been built. Build the model first by calling build() or calling fit() with some data. Or specify input_shape or batch_input_shape in the first layer for automatic build. "
     ]
    }
   ],
   "source": [
    "from keras import models\n",
    "from keras import layers\n",
    "\n",
    "network = models.Sequential()\n",
    "\n",
    "#\n",
    "# Your code here!\n",
    "\n",
    "network.add(layers.Flatten())\n",
    "network.add(layers.Dense(10,activation='softmax'))\n",
    "network.compile(optimizer='adam',loss='categorical_crossentropy',metrics=['accuracy'])\n",
    "print(network.summary())\n",
    "#\n",
    "history = network.fit(train_images,train_labels_cat,epochs=5,batch_size=128,validation_data=(test_images,test_labels_cat))\n"
   ]
  },
  {
   "cell_type": "markdown",
   "metadata": {},
   "source": [
    "## Generate adverserial examples for CNN\n",
    "After fitting your CNN above, you will have to make a trivial change to the code below to get it to work with that network."
   ]
  },
  {
   "cell_type": "code",
   "execution_count": null,
   "metadata": {},
   "outputs": [],
   "source": [
    "import keras.backend as K\n",
    "# Initialize adversarial example with input image\n",
    "sample = 5\n",
    "test_image = test_images[sample].reshape((1,784))\n",
    "x = test_image\n",
    "x_adv = x\n",
    "predictions = network.predict(x_adv)\n",
    "#\n",
    "# Get the max probabilites for each rows\n",
    "probs = np.max(predictions, axis = 1)\n",
    "#\n",
    "# Get the predicted classes for each row\n",
    "predclass = np.argmax(predictions, axis = 1)\n",
    "print(\"Predictions\",predictions)\n",
    "print(\"Test label\",test_label)\n",
    "print(\"Pred class\",predclass)\n",
    "#\n",
    "# Set variables\n",
    "epochs = 15\n",
    "epsilon = 0.02\n",
    "#\n",
    "# The target is a one-hot array of 1x10\n",
    "target = np.zeros((1,10))\n",
    "#\n",
    "# Set the target to its true value for the real input\n",
    "target[0,predclass[0]] = 1\n",
    "#\n",
    "# Define the loss function\n",
    "loss = K.categorical_crossentropy(target, network.output)\n",
    "#\n",
    "# Get the gradient of the cost function with respect to the *input*\n",
    "grads = K.gradients(loss, network.input)[0]\n",
    "#\n",
    "# This next line **defines** the \"iterate\" function using the \"K.function\" method.\n",
    "# This takes the given network input and calculates the loss and the gradient.\n",
    "iterate = K.function([network.input],[loss,grads])\n",
    "#\n",
    "# Now actually do the calculations\n",
    "for i in range(epochs): \n",
    "#\n",
    "# Get the loss and gradient value given our input image\n",
    "    loss_value, grads_value = iterate([x_adv])\n",
    "#\n",
    "# Update the input - make or small changes here!\n",
    "    x_adv = x_adv + epsilon*K.sign(grads_value)\n",
    "#\n",
    "# Now we can get the prediction given our modified image\n",
    "    preds = network.predict(x_adv,steps=1)\n",
    "    print(i, np.argmax(preds, axis = 1),preds)\n",
    "#\n",
    "# Once our predicted class is no longer the same as our starting class, jump out of the loop\n",
    "    if predclass != np.argmax(preds, axis = 1)[0]:\n",
    "        break\n",
    "#\n",
    "# Convert from a tensorflow tensor to a numpy array\n",
    "x_adv = K.eval(x_adv)\n",
    "#print(x_adv)\n",
    "#\n",
    "# Plot the starting image, the modified image, and their difference\n",
    "plot_img(x)   \n",
    "plot_img(x_adv)   \n",
    "plot_img(x_adv-x)"
   ]
  }
 ],
 "metadata": {
  "kernelspec": {
   "display_name": "Python 3.6 (Conda 5.2) [python/3.6-conda5.2]",
   "language": "python",
   "name": "sys_python36conda"
  },
  "language_info": {
   "codemirror_mode": {
    "name": "ipython",
    "version": 3
   },
   "file_extension": ".py",
   "mimetype": "text/x-python",
   "name": "python",
   "nbconvert_exporter": "python",
   "pygments_lexer": "ipython3",
   "version": "3.6.6"
  }
 },
 "nbformat": 4,
 "nbformat_minor": 2
}
